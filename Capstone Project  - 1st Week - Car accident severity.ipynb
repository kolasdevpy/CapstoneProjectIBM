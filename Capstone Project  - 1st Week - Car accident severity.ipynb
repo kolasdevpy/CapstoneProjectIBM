{
 "cells": [
  {
   "cell_type": "markdown",
   "metadata": {
    "collapsed": true
   },
   "source": [
    "# Capstone Project - Car accident severity"
   ]
  },
  {
   "cell_type": "markdown",
   "metadata": {},
   "source": [
    " "
   ]
  },
  {
   "cell_type": "markdown",
   "metadata": {},
   "source": [
    "# 1st Week"
   ]
  },
  {
   "cell_type": "markdown",
   "metadata": {},
   "source": [
    "### Tasks\n",
    "1) Clearly define a problem or an idea of your choice. Remember that data science problems always target an audience and are meant to help a group of stakeholders solve a problem, so make sure that you explicitly describe your audience and why they would care about your problem.\n",
    "This submission will eventually become your Introduction/Business Problem section in your final report. So I recommend that you push the report (having your Introduction/Business Problem section only for now) to your Github repository and submit a link to it."
   ]
  },
  {
   "cell_type": "markdown",
   "metadata": {},
   "source": [
    "2) Describe the data that you will be using to solve the problem or execute your idea. So make sure that you provide adequate explanation and discussion, with examples, of the data that you will be using.\n",
    "This submission will eventually become your Data section in your final report. So I recommend that you push the report (having your Data section) to your Github repository and submit a link to it."
   ]
  },
  {
   "cell_type": "markdown",
   "metadata": {},
   "source": [
    "____ "
   ]
  },
  {
   "cell_type": "markdown",
   "metadata": {},
   "source": [
    " "
   ]
  },
  {
   "cell_type": "markdown",
   "metadata": {},
   "source": [
    "# Introduction / Business Problem"
   ]
  },
  {
   "cell_type": "markdown",
   "metadata": {},
   "source": [
    "\n",
    "This data allows us to build a model for predicting whether the car crash participants (car drivers or pedestrians) require increased amount of medical care or not. The data covers Seatle, WA. The primary focus of the model is to prioritize help for different points of the city for better balance of injury and help amount. The more injury - more help.\n",
    "\n",
    "For example, the Seattle Police department has limited number of helicopters for the medical purposes and prosecution of criminals. And in the case of simultaneously happening crashes, the model could possibly help to choose the way of dealing with the problems, predicting the amount of damage in all cases.\n",
    "_____        \n",
    "We already have the collected incident data. We need to understand and describe the data.\n",
    "Next, we need to understand which part of all the data we will use.\n",
    "_____\n",
    "        \n",
    "To do this, we need to build a model that can determine the need for a medical helicopter in an accident. It's a Discrete value.\n",
    "Since we have a Classification problem. I chose the Decision Trees model.\n"
   ]
  },
  {
   "cell_type": "markdown",
   "metadata": {},
   "source": [
    "___"
   ]
  },
  {
   "cell_type": "markdown",
   "metadata": {},
   "source": [
    "## Data Source\n",
    " \n",
    " #### Description\n",
    " \n",
    " https://s3.us.cloud-object-storage.appdomain.cloud/cf-courses-data/CognitiveClass/DP0701EN/version-2/Metadata.pdf\n",
    " \n",
    " #### Data\n",
    " \n",
    " https://s3.us.cloud-object-storage.appdomain.cloud/cf-courses-data/CognitiveClass/DP0701EN/version-2/Data-Collisions.csv"
   ]
  },
  {
   "cell_type": "markdown",
   "metadata": {},
   "source": [
    "____"
   ]
  },
  {
   "cell_type": "markdown",
   "metadata": {},
   "source": [
    " "
   ]
  },
  {
   "cell_type": "markdown",
   "metadata": {},
   "source": [
    " "
   ]
  },
  {
   "cell_type": "markdown",
   "metadata": {},
   "source": [
    "# Data Description"
   ]
  },
  {
   "cell_type": "markdown",
   "metadata": {},
   "source": [
    "## Downloading and Reading Data"
   ]
  },
  {
   "cell_type": "code",
   "execution_count": 1,
   "metadata": {
    "scrolled": false
   },
   "outputs": [
    {
     "name": "stderr",
     "output_type": "stream",
     "text": [
      "/Users/artyomkolas/opt/anaconda3/lib/python3.8/site-packages/IPython/core/interactiveshell.py:3071: DtypeWarning: Columns (33) have mixed types.Specify dtype option on import or set low_memory=False.\n",
      "  has_raised = await self.run_ast_nodes(code_ast.body, cell_name,\n"
     ]
    },
    {
     "data": {
      "text/html": [
       "<div>\n",
       "<style scoped>\n",
       "    .dataframe tbody tr th:only-of-type {\n",
       "        vertical-align: middle;\n",
       "    }\n",
       "\n",
       "    .dataframe tbody tr th {\n",
       "        vertical-align: top;\n",
       "    }\n",
       "\n",
       "    .dataframe thead th {\n",
       "        text-align: right;\n",
       "    }\n",
       "</style>\n",
       "<table border=\"1\" class=\"dataframe\">\n",
       "  <thead>\n",
       "    <tr style=\"text-align: right;\">\n",
       "      <th></th>\n",
       "      <th>SEVERITYCODE</th>\n",
       "      <th>X</th>\n",
       "      <th>Y</th>\n",
       "      <th>OBJECTID</th>\n",
       "      <th>INCKEY</th>\n",
       "      <th>COLDETKEY</th>\n",
       "      <th>REPORTNO</th>\n",
       "      <th>STATUS</th>\n",
       "      <th>ADDRTYPE</th>\n",
       "      <th>INTKEY</th>\n",
       "      <th>...</th>\n",
       "      <th>ROADCOND</th>\n",
       "      <th>LIGHTCOND</th>\n",
       "      <th>PEDROWNOTGRNT</th>\n",
       "      <th>SDOTCOLNUM</th>\n",
       "      <th>SPEEDING</th>\n",
       "      <th>ST_COLCODE</th>\n",
       "      <th>ST_COLDESC</th>\n",
       "      <th>SEGLANEKEY</th>\n",
       "      <th>CROSSWALKKEY</th>\n",
       "      <th>HITPARKEDCAR</th>\n",
       "    </tr>\n",
       "  </thead>\n",
       "  <tbody>\n",
       "    <tr>\n",
       "      <th>0</th>\n",
       "      <td>2</td>\n",
       "      <td>-122.323148</td>\n",
       "      <td>47.703140</td>\n",
       "      <td>1</td>\n",
       "      <td>1307</td>\n",
       "      <td>1307</td>\n",
       "      <td>3502005</td>\n",
       "      <td>Matched</td>\n",
       "      <td>Intersection</td>\n",
       "      <td>37475.0</td>\n",
       "      <td>...</td>\n",
       "      <td>Wet</td>\n",
       "      <td>Daylight</td>\n",
       "      <td>NaN</td>\n",
       "      <td>NaN</td>\n",
       "      <td>NaN</td>\n",
       "      <td>10</td>\n",
       "      <td>Entering at angle</td>\n",
       "      <td>0</td>\n",
       "      <td>0</td>\n",
       "      <td>N</td>\n",
       "    </tr>\n",
       "    <tr>\n",
       "      <th>1</th>\n",
       "      <td>1</td>\n",
       "      <td>-122.347294</td>\n",
       "      <td>47.647172</td>\n",
       "      <td>2</td>\n",
       "      <td>52200</td>\n",
       "      <td>52200</td>\n",
       "      <td>2607959</td>\n",
       "      <td>Matched</td>\n",
       "      <td>Block</td>\n",
       "      <td>NaN</td>\n",
       "      <td>...</td>\n",
       "      <td>Wet</td>\n",
       "      <td>Dark - Street Lights On</td>\n",
       "      <td>NaN</td>\n",
       "      <td>6354039.0</td>\n",
       "      <td>NaN</td>\n",
       "      <td>11</td>\n",
       "      <td>From same direction - both going straight - bo...</td>\n",
       "      <td>0</td>\n",
       "      <td>0</td>\n",
       "      <td>N</td>\n",
       "    </tr>\n",
       "  </tbody>\n",
       "</table>\n",
       "<p>2 rows × 38 columns</p>\n",
       "</div>"
      ],
      "text/plain": [
       "   SEVERITYCODE           X          Y  OBJECTID  INCKEY  COLDETKEY REPORTNO  \\\n",
       "0             2 -122.323148  47.703140         1    1307       1307  3502005   \n",
       "1             1 -122.347294  47.647172         2   52200      52200  2607959   \n",
       "\n",
       "    STATUS      ADDRTYPE   INTKEY  ... ROADCOND                LIGHTCOND  \\\n",
       "0  Matched  Intersection  37475.0  ...      Wet                 Daylight   \n",
       "1  Matched         Block      NaN  ...      Wet  Dark - Street Lights On   \n",
       "\n",
       "  PEDROWNOTGRNT  SDOTCOLNUM SPEEDING ST_COLCODE  \\\n",
       "0           NaN         NaN      NaN         10   \n",
       "1           NaN   6354039.0      NaN         11   \n",
       "\n",
       "                                          ST_COLDESC  SEGLANEKEY  \\\n",
       "0                                  Entering at angle           0   \n",
       "1  From same direction - both going straight - bo...           0   \n",
       "\n",
       "   CROSSWALKKEY  HITPARKEDCAR  \n",
       "0             0             N  \n",
       "1             0             N  \n",
       "\n",
       "[2 rows x 38 columns]"
      ]
     },
     "execution_count": 1,
     "metadata": {},
     "output_type": "execute_result"
    }
   ],
   "source": [
    "import pandas as pd\n",
    "import numpy as np \n",
    "path = \"https://s3.us.cloud-object-storage.appdomain.cloud/cf-courses-data/CognitiveClass/DP0701EN/version-2/Data-Collisions.csv\"\n",
    "df = pd.read_csv(path)\n",
    "df.head(2)"
   ]
  },
  {
   "cell_type": "markdown",
   "metadata": {},
   "source": [
    "## Data Understanding"
   ]
  },
  {
   "cell_type": "code",
   "execution_count": 2,
   "metadata": {},
   "outputs": [
    {
     "data": {
      "text/plain": [
       "(194673, 38)"
      ]
     },
     "execution_count": 2,
     "metadata": {},
     "output_type": "execute_result"
    }
   ],
   "source": [
    "df.shape"
   ]
  },
  {
   "cell_type": "code",
   "execution_count": 3,
   "metadata": {},
   "outputs": [
    {
     "data": {
      "text/html": [
       "<div>\n",
       "<style scoped>\n",
       "    .dataframe tbody tr th:only-of-type {\n",
       "        vertical-align: middle;\n",
       "    }\n",
       "\n",
       "    .dataframe tbody tr th {\n",
       "        vertical-align: top;\n",
       "    }\n",
       "\n",
       "    .dataframe thead th {\n",
       "        text-align: right;\n",
       "    }\n",
       "</style>\n",
       "<table border=\"1\" class=\"dataframe\">\n",
       "  <thead>\n",
       "    <tr style=\"text-align: right;\">\n",
       "      <th></th>\n",
       "      <th>SEVERITYCODE</th>\n",
       "      <th>X</th>\n",
       "      <th>Y</th>\n",
       "      <th>OBJECTID</th>\n",
       "      <th>INCKEY</th>\n",
       "      <th>COLDETKEY</th>\n",
       "      <th>REPORTNO</th>\n",
       "      <th>STATUS</th>\n",
       "      <th>ADDRTYPE</th>\n",
       "      <th>INTKEY</th>\n",
       "      <th>...</th>\n",
       "      <th>ROADCOND</th>\n",
       "      <th>LIGHTCOND</th>\n",
       "      <th>PEDROWNOTGRNT</th>\n",
       "      <th>SDOTCOLNUM</th>\n",
       "      <th>SPEEDING</th>\n",
       "      <th>ST_COLCODE</th>\n",
       "      <th>ST_COLDESC</th>\n",
       "      <th>SEGLANEKEY</th>\n",
       "      <th>CROSSWALKKEY</th>\n",
       "      <th>HITPARKEDCAR</th>\n",
       "    </tr>\n",
       "  </thead>\n",
       "  <tbody>\n",
       "    <tr>\n",
       "      <th>194672</th>\n",
       "      <td>1</td>\n",
       "      <td>-122.28936</td>\n",
       "      <td>47.611017</td>\n",
       "      <td>219547</td>\n",
       "      <td>308220</td>\n",
       "      <td>309500</td>\n",
       "      <td>E868008</td>\n",
       "      <td>Matched</td>\n",
       "      <td>Block</td>\n",
       "      <td>NaN</td>\n",
       "      <td>...</td>\n",
       "      <td>Wet</td>\n",
       "      <td>Daylight</td>\n",
       "      <td>NaN</td>\n",
       "      <td>NaN</td>\n",
       "      <td>NaN</td>\n",
       "      <td>14</td>\n",
       "      <td>From same direction - both going straight - on...</td>\n",
       "      <td>0</td>\n",
       "      <td>0</td>\n",
       "      <td>N</td>\n",
       "    </tr>\n",
       "  </tbody>\n",
       "</table>\n",
       "<p>1 rows × 38 columns</p>\n",
       "</div>"
      ],
      "text/plain": [
       "        SEVERITYCODE          X          Y  OBJECTID  INCKEY  COLDETKEY  \\\n",
       "194672             1 -122.28936  47.611017    219547  308220     309500   \n",
       "\n",
       "       REPORTNO   STATUS ADDRTYPE  INTKEY  ... ROADCOND LIGHTCOND  \\\n",
       "194672  E868008  Matched    Block     NaN  ...      Wet  Daylight   \n",
       "\n",
       "       PEDROWNOTGRNT  SDOTCOLNUM SPEEDING ST_COLCODE  \\\n",
       "194672           NaN         NaN      NaN         14   \n",
       "\n",
       "                                               ST_COLDESC  SEGLANEKEY  \\\n",
       "194672  From same direction - both going straight - on...           0   \n",
       "\n",
       "        CROSSWALKKEY  HITPARKEDCAR  \n",
       "194672             0             N  \n",
       "\n",
       "[1 rows x 38 columns]"
      ]
     },
     "execution_count": 3,
     "metadata": {},
     "output_type": "execute_result"
    }
   ],
   "source": [
    "df[-1:]"
   ]
  },
  {
   "cell_type": "code",
   "execution_count": 4,
   "metadata": {},
   "outputs": [
    {
     "data": {
      "text/plain": [
       "Index(['SEVERITYCODE', 'X', 'Y', 'OBJECTID', 'INCKEY', 'COLDETKEY', 'REPORTNO',\n",
       "       'STATUS', 'ADDRTYPE', 'INTKEY', 'LOCATION', 'EXCEPTRSNCODE',\n",
       "       'EXCEPTRSNDESC', 'SEVERITYCODE.1', 'SEVERITYDESC', 'COLLISIONTYPE',\n",
       "       'PERSONCOUNT', 'PEDCOUNT', 'PEDCYLCOUNT', 'VEHCOUNT', 'INCDATE',\n",
       "       'INCDTTM', 'JUNCTIONTYPE', 'SDOT_COLCODE', 'SDOT_COLDESC',\n",
       "       'INATTENTIONIND', 'UNDERINFL', 'WEATHER', 'ROADCOND', 'LIGHTCOND',\n",
       "       'PEDROWNOTGRNT', 'SDOTCOLNUM', 'SPEEDING', 'ST_COLCODE', 'ST_COLDESC',\n",
       "       'SEGLANEKEY', 'CROSSWALKKEY', 'HITPARKEDCAR'],\n",
       "      dtype='object')"
      ]
     },
     "execution_count": 4,
     "metadata": {},
     "output_type": "execute_result"
    }
   ],
   "source": [
    "df.columns"
   ]
  },
  {
   "cell_type": "code",
   "execution_count": 5,
   "metadata": {},
   "outputs": [
    {
     "data": {
      "text/plain": [
       "SEVERITYCODE        int64\n",
       "X                 float64\n",
       "Y                 float64\n",
       "OBJECTID            int64\n",
       "INCKEY              int64\n",
       "COLDETKEY           int64\n",
       "REPORTNO           object\n",
       "STATUS             object\n",
       "ADDRTYPE           object\n",
       "INTKEY            float64\n",
       "LOCATION           object\n",
       "EXCEPTRSNCODE      object\n",
       "EXCEPTRSNDESC      object\n",
       "SEVERITYCODE.1      int64\n",
       "SEVERITYDESC       object\n",
       "COLLISIONTYPE      object\n",
       "PERSONCOUNT         int64\n",
       "PEDCOUNT            int64\n",
       "PEDCYLCOUNT         int64\n",
       "VEHCOUNT            int64\n",
       "INCDATE            object\n",
       "INCDTTM            object\n",
       "JUNCTIONTYPE       object\n",
       "SDOT_COLCODE        int64\n",
       "SDOT_COLDESC       object\n",
       "INATTENTIONIND     object\n",
       "UNDERINFL          object\n",
       "WEATHER            object\n",
       "ROADCOND           object\n",
       "LIGHTCOND          object\n",
       "PEDROWNOTGRNT      object\n",
       "SDOTCOLNUM        float64\n",
       "SPEEDING           object\n",
       "ST_COLCODE         object\n",
       "ST_COLDESC         object\n",
       "SEGLANEKEY          int64\n",
       "CROSSWALKKEY        int64\n",
       "HITPARKEDCAR       object\n",
       "dtype: object"
      ]
     },
     "execution_count": 5,
     "metadata": {},
     "output_type": "execute_result"
    }
   ],
   "source": [
    "df.dtypes"
   ]
  },
  {
   "cell_type": "code",
   "execution_count": 6,
   "metadata": {},
   "outputs": [
    {
     "data": {
      "text/html": [
       "<div>\n",
       "<style scoped>\n",
       "    .dataframe tbody tr th:only-of-type {\n",
       "        vertical-align: middle;\n",
       "    }\n",
       "\n",
       "    .dataframe tbody tr th {\n",
       "        vertical-align: top;\n",
       "    }\n",
       "\n",
       "    .dataframe thead th {\n",
       "        text-align: right;\n",
       "    }\n",
       "</style>\n",
       "<table border=\"1\" class=\"dataframe\">\n",
       "  <thead>\n",
       "    <tr style=\"text-align: right;\">\n",
       "      <th></th>\n",
       "      <th>SEVERITYCODE</th>\n",
       "      <th>X</th>\n",
       "      <th>Y</th>\n",
       "      <th>OBJECTID</th>\n",
       "      <th>INCKEY</th>\n",
       "      <th>COLDETKEY</th>\n",
       "      <th>REPORTNO</th>\n",
       "      <th>STATUS</th>\n",
       "      <th>ADDRTYPE</th>\n",
       "      <th>INTKEY</th>\n",
       "      <th>...</th>\n",
       "      <th>ROADCOND</th>\n",
       "      <th>LIGHTCOND</th>\n",
       "      <th>PEDROWNOTGRNT</th>\n",
       "      <th>SDOTCOLNUM</th>\n",
       "      <th>SPEEDING</th>\n",
       "      <th>ST_COLCODE</th>\n",
       "      <th>ST_COLDESC</th>\n",
       "      <th>SEGLANEKEY</th>\n",
       "      <th>CROSSWALKKEY</th>\n",
       "      <th>HITPARKEDCAR</th>\n",
       "    </tr>\n",
       "  </thead>\n",
       "  <tbody>\n",
       "    <tr>\n",
       "      <th>count</th>\n",
       "      <td>194673.000000</td>\n",
       "      <td>189339.000000</td>\n",
       "      <td>189339.000000</td>\n",
       "      <td>194673.000000</td>\n",
       "      <td>194673.000000</td>\n",
       "      <td>194673.000000</td>\n",
       "      <td>194673</td>\n",
       "      <td>194673</td>\n",
       "      <td>192747</td>\n",
       "      <td>65070.000000</td>\n",
       "      <td>...</td>\n",
       "      <td>189661</td>\n",
       "      <td>189503</td>\n",
       "      <td>4667</td>\n",
       "      <td>1.149360e+05</td>\n",
       "      <td>9333</td>\n",
       "      <td>194655</td>\n",
       "      <td>189769</td>\n",
       "      <td>194673.000000</td>\n",
       "      <td>1.946730e+05</td>\n",
       "      <td>194673</td>\n",
       "    </tr>\n",
       "    <tr>\n",
       "      <th>unique</th>\n",
       "      <td>NaN</td>\n",
       "      <td>NaN</td>\n",
       "      <td>NaN</td>\n",
       "      <td>NaN</td>\n",
       "      <td>NaN</td>\n",
       "      <td>NaN</td>\n",
       "      <td>194670</td>\n",
       "      <td>2</td>\n",
       "      <td>3</td>\n",
       "      <td>NaN</td>\n",
       "      <td>...</td>\n",
       "      <td>9</td>\n",
       "      <td>9</td>\n",
       "      <td>1</td>\n",
       "      <td>NaN</td>\n",
       "      <td>1</td>\n",
       "      <td>115</td>\n",
       "      <td>62</td>\n",
       "      <td>NaN</td>\n",
       "      <td>NaN</td>\n",
       "      <td>2</td>\n",
       "    </tr>\n",
       "    <tr>\n",
       "      <th>top</th>\n",
       "      <td>NaN</td>\n",
       "      <td>NaN</td>\n",
       "      <td>NaN</td>\n",
       "      <td>NaN</td>\n",
       "      <td>NaN</td>\n",
       "      <td>NaN</td>\n",
       "      <td>1780512</td>\n",
       "      <td>Matched</td>\n",
       "      <td>Block</td>\n",
       "      <td>NaN</td>\n",
       "      <td>...</td>\n",
       "      <td>Dry</td>\n",
       "      <td>Daylight</td>\n",
       "      <td>Y</td>\n",
       "      <td>NaN</td>\n",
       "      <td>Y</td>\n",
       "      <td>32</td>\n",
       "      <td>One parked--one moving</td>\n",
       "      <td>NaN</td>\n",
       "      <td>NaN</td>\n",
       "      <td>N</td>\n",
       "    </tr>\n",
       "    <tr>\n",
       "      <th>freq</th>\n",
       "      <td>NaN</td>\n",
       "      <td>NaN</td>\n",
       "      <td>NaN</td>\n",
       "      <td>NaN</td>\n",
       "      <td>NaN</td>\n",
       "      <td>NaN</td>\n",
       "      <td>2</td>\n",
       "      <td>189786</td>\n",
       "      <td>126926</td>\n",
       "      <td>NaN</td>\n",
       "      <td>...</td>\n",
       "      <td>124510</td>\n",
       "      <td>116137</td>\n",
       "      <td>4667</td>\n",
       "      <td>NaN</td>\n",
       "      <td>9333</td>\n",
       "      <td>27612</td>\n",
       "      <td>44421</td>\n",
       "      <td>NaN</td>\n",
       "      <td>NaN</td>\n",
       "      <td>187457</td>\n",
       "    </tr>\n",
       "    <tr>\n",
       "      <th>mean</th>\n",
       "      <td>1.298901</td>\n",
       "      <td>-122.330518</td>\n",
       "      <td>47.619543</td>\n",
       "      <td>108479.364930</td>\n",
       "      <td>141091.456350</td>\n",
       "      <td>141298.811381</td>\n",
       "      <td>NaN</td>\n",
       "      <td>NaN</td>\n",
       "      <td>NaN</td>\n",
       "      <td>37558.450576</td>\n",
       "      <td>...</td>\n",
       "      <td>NaN</td>\n",
       "      <td>NaN</td>\n",
       "      <td>NaN</td>\n",
       "      <td>7.972521e+06</td>\n",
       "      <td>NaN</td>\n",
       "      <td>NaN</td>\n",
       "      <td>NaN</td>\n",
       "      <td>269.401114</td>\n",
       "      <td>9.782452e+03</td>\n",
       "      <td>NaN</td>\n",
       "    </tr>\n",
       "    <tr>\n",
       "      <th>std</th>\n",
       "      <td>0.457778</td>\n",
       "      <td>0.029976</td>\n",
       "      <td>0.056157</td>\n",
       "      <td>62649.722558</td>\n",
       "      <td>86634.402737</td>\n",
       "      <td>86986.542110</td>\n",
       "      <td>NaN</td>\n",
       "      <td>NaN</td>\n",
       "      <td>NaN</td>\n",
       "      <td>51745.990273</td>\n",
       "      <td>...</td>\n",
       "      <td>NaN</td>\n",
       "      <td>NaN</td>\n",
       "      <td>NaN</td>\n",
       "      <td>2.553533e+06</td>\n",
       "      <td>NaN</td>\n",
       "      <td>NaN</td>\n",
       "      <td>NaN</td>\n",
       "      <td>3315.776055</td>\n",
       "      <td>7.226926e+04</td>\n",
       "      <td>NaN</td>\n",
       "    </tr>\n",
       "    <tr>\n",
       "      <th>min</th>\n",
       "      <td>1.000000</td>\n",
       "      <td>-122.419091</td>\n",
       "      <td>47.495573</td>\n",
       "      <td>1.000000</td>\n",
       "      <td>1001.000000</td>\n",
       "      <td>1001.000000</td>\n",
       "      <td>NaN</td>\n",
       "      <td>NaN</td>\n",
       "      <td>NaN</td>\n",
       "      <td>23807.000000</td>\n",
       "      <td>...</td>\n",
       "      <td>NaN</td>\n",
       "      <td>NaN</td>\n",
       "      <td>NaN</td>\n",
       "      <td>1.007024e+06</td>\n",
       "      <td>NaN</td>\n",
       "      <td>NaN</td>\n",
       "      <td>NaN</td>\n",
       "      <td>0.000000</td>\n",
       "      <td>0.000000e+00</td>\n",
       "      <td>NaN</td>\n",
       "    </tr>\n",
       "    <tr>\n",
       "      <th>25%</th>\n",
       "      <td>1.000000</td>\n",
       "      <td>-122.348673</td>\n",
       "      <td>47.575956</td>\n",
       "      <td>54267.000000</td>\n",
       "      <td>70383.000000</td>\n",
       "      <td>70383.000000</td>\n",
       "      <td>NaN</td>\n",
       "      <td>NaN</td>\n",
       "      <td>NaN</td>\n",
       "      <td>28667.000000</td>\n",
       "      <td>...</td>\n",
       "      <td>NaN</td>\n",
       "      <td>NaN</td>\n",
       "      <td>NaN</td>\n",
       "      <td>6.040015e+06</td>\n",
       "      <td>NaN</td>\n",
       "      <td>NaN</td>\n",
       "      <td>NaN</td>\n",
       "      <td>0.000000</td>\n",
       "      <td>0.000000e+00</td>\n",
       "      <td>NaN</td>\n",
       "    </tr>\n",
       "    <tr>\n",
       "      <th>50%</th>\n",
       "      <td>1.000000</td>\n",
       "      <td>-122.330224</td>\n",
       "      <td>47.615369</td>\n",
       "      <td>106912.000000</td>\n",
       "      <td>123363.000000</td>\n",
       "      <td>123363.000000</td>\n",
       "      <td>NaN</td>\n",
       "      <td>NaN</td>\n",
       "      <td>NaN</td>\n",
       "      <td>29973.000000</td>\n",
       "      <td>...</td>\n",
       "      <td>NaN</td>\n",
       "      <td>NaN</td>\n",
       "      <td>NaN</td>\n",
       "      <td>8.023022e+06</td>\n",
       "      <td>NaN</td>\n",
       "      <td>NaN</td>\n",
       "      <td>NaN</td>\n",
       "      <td>0.000000</td>\n",
       "      <td>0.000000e+00</td>\n",
       "      <td>NaN</td>\n",
       "    </tr>\n",
       "    <tr>\n",
       "      <th>75%</th>\n",
       "      <td>2.000000</td>\n",
       "      <td>-122.311937</td>\n",
       "      <td>47.663664</td>\n",
       "      <td>162272.000000</td>\n",
       "      <td>203319.000000</td>\n",
       "      <td>203459.000000</td>\n",
       "      <td>NaN</td>\n",
       "      <td>NaN</td>\n",
       "      <td>NaN</td>\n",
       "      <td>33973.000000</td>\n",
       "      <td>...</td>\n",
       "      <td>NaN</td>\n",
       "      <td>NaN</td>\n",
       "      <td>NaN</td>\n",
       "      <td>1.015501e+07</td>\n",
       "      <td>NaN</td>\n",
       "      <td>NaN</td>\n",
       "      <td>NaN</td>\n",
       "      <td>0.000000</td>\n",
       "      <td>0.000000e+00</td>\n",
       "      <td>NaN</td>\n",
       "    </tr>\n",
       "    <tr>\n",
       "      <th>max</th>\n",
       "      <td>2.000000</td>\n",
       "      <td>-122.238949</td>\n",
       "      <td>47.734142</td>\n",
       "      <td>219547.000000</td>\n",
       "      <td>331454.000000</td>\n",
       "      <td>332954.000000</td>\n",
       "      <td>NaN</td>\n",
       "      <td>NaN</td>\n",
       "      <td>NaN</td>\n",
       "      <td>757580.000000</td>\n",
       "      <td>...</td>\n",
       "      <td>NaN</td>\n",
       "      <td>NaN</td>\n",
       "      <td>NaN</td>\n",
       "      <td>1.307202e+07</td>\n",
       "      <td>NaN</td>\n",
       "      <td>NaN</td>\n",
       "      <td>NaN</td>\n",
       "      <td>525241.000000</td>\n",
       "      <td>5.239700e+06</td>\n",
       "      <td>NaN</td>\n",
       "    </tr>\n",
       "  </tbody>\n",
       "</table>\n",
       "<p>11 rows × 38 columns</p>\n",
       "</div>"
      ],
      "text/plain": [
       "         SEVERITYCODE              X              Y       OBJECTID  \\\n",
       "count   194673.000000  189339.000000  189339.000000  194673.000000   \n",
       "unique            NaN            NaN            NaN            NaN   \n",
       "top               NaN            NaN            NaN            NaN   \n",
       "freq              NaN            NaN            NaN            NaN   \n",
       "mean         1.298901    -122.330518      47.619543  108479.364930   \n",
       "std          0.457778       0.029976       0.056157   62649.722558   \n",
       "min          1.000000    -122.419091      47.495573       1.000000   \n",
       "25%          1.000000    -122.348673      47.575956   54267.000000   \n",
       "50%          1.000000    -122.330224      47.615369  106912.000000   \n",
       "75%          2.000000    -122.311937      47.663664  162272.000000   \n",
       "max          2.000000    -122.238949      47.734142  219547.000000   \n",
       "\n",
       "               INCKEY      COLDETKEY REPORTNO   STATUS ADDRTYPE  \\\n",
       "count   194673.000000  194673.000000   194673   194673   192747   \n",
       "unique            NaN            NaN   194670        2        3   \n",
       "top               NaN            NaN  1780512  Matched    Block   \n",
       "freq              NaN            NaN        2   189786   126926   \n",
       "mean    141091.456350  141298.811381      NaN      NaN      NaN   \n",
       "std      86634.402737   86986.542110      NaN      NaN      NaN   \n",
       "min       1001.000000    1001.000000      NaN      NaN      NaN   \n",
       "25%      70383.000000   70383.000000      NaN      NaN      NaN   \n",
       "50%     123363.000000  123363.000000      NaN      NaN      NaN   \n",
       "75%     203319.000000  203459.000000      NaN      NaN      NaN   \n",
       "max     331454.000000  332954.000000      NaN      NaN      NaN   \n",
       "\n",
       "               INTKEY  ... ROADCOND LIGHTCOND PEDROWNOTGRNT    SDOTCOLNUM  \\\n",
       "count    65070.000000  ...   189661    189503          4667  1.149360e+05   \n",
       "unique            NaN  ...        9         9             1           NaN   \n",
       "top               NaN  ...      Dry  Daylight             Y           NaN   \n",
       "freq              NaN  ...   124510    116137          4667           NaN   \n",
       "mean     37558.450576  ...      NaN       NaN           NaN  7.972521e+06   \n",
       "std      51745.990273  ...      NaN       NaN           NaN  2.553533e+06   \n",
       "min      23807.000000  ...      NaN       NaN           NaN  1.007024e+06   \n",
       "25%      28667.000000  ...      NaN       NaN           NaN  6.040015e+06   \n",
       "50%      29973.000000  ...      NaN       NaN           NaN  8.023022e+06   \n",
       "75%      33973.000000  ...      NaN       NaN           NaN  1.015501e+07   \n",
       "max     757580.000000  ...      NaN       NaN           NaN  1.307202e+07   \n",
       "\n",
       "       SPEEDING ST_COLCODE              ST_COLDESC     SEGLANEKEY  \\\n",
       "count      9333     194655                  189769  194673.000000   \n",
       "unique        1        115                      62            NaN   \n",
       "top           Y         32  One parked--one moving            NaN   \n",
       "freq       9333      27612                   44421            NaN   \n",
       "mean        NaN        NaN                     NaN     269.401114   \n",
       "std         NaN        NaN                     NaN    3315.776055   \n",
       "min         NaN        NaN                     NaN       0.000000   \n",
       "25%         NaN        NaN                     NaN       0.000000   \n",
       "50%         NaN        NaN                     NaN       0.000000   \n",
       "75%         NaN        NaN                     NaN       0.000000   \n",
       "max         NaN        NaN                     NaN  525241.000000   \n",
       "\n",
       "        CROSSWALKKEY  HITPARKEDCAR  \n",
       "count   1.946730e+05        194673  \n",
       "unique           NaN             2  \n",
       "top              NaN             N  \n",
       "freq             NaN        187457  \n",
       "mean    9.782452e+03           NaN  \n",
       "std     7.226926e+04           NaN  \n",
       "min     0.000000e+00           NaN  \n",
       "25%     0.000000e+00           NaN  \n",
       "50%     0.000000e+00           NaN  \n",
       "75%     0.000000e+00           NaN  \n",
       "max     5.239700e+06           NaN  \n",
       "\n",
       "[11 rows x 38 columns]"
      ]
     },
     "execution_count": 6,
     "metadata": {},
     "output_type": "execute_result"
    }
   ],
   "source": [
    "df.describe(include = 'all')"
   ]
  },
  {
   "cell_type": "code",
   "execution_count": 7,
   "metadata": {},
   "outputs": [
    {
     "data": {
      "text/plain": [
       "<bound method DataFrame.info of         SEVERITYCODE           X          Y  OBJECTID  INCKEY  COLDETKEY  \\\n",
       "0                  2 -122.323148  47.703140         1    1307       1307   \n",
       "1                  1 -122.347294  47.647172         2   52200      52200   \n",
       "2                  1 -122.334540  47.607871         3   26700      26700   \n",
       "3                  1 -122.334803  47.604803         4    1144       1144   \n",
       "4                  2 -122.306426  47.545739         5   17700      17700   \n",
       "...              ...         ...        ...       ...     ...        ...   \n",
       "194668             2 -122.290826  47.565408    219543  309534     310814   \n",
       "194669             1 -122.344526  47.690924    219544  309085     310365   \n",
       "194670             2 -122.306689  47.683047    219545  311280     312640   \n",
       "194671             2 -122.355317  47.678734    219546  309514     310794   \n",
       "194672             1 -122.289360  47.611017    219547  308220     309500   \n",
       "\n",
       "       REPORTNO   STATUS      ADDRTYPE   INTKEY  ... ROADCOND  \\\n",
       "0       3502005  Matched  Intersection  37475.0  ...      Wet   \n",
       "1       2607959  Matched         Block      NaN  ...      Wet   \n",
       "2       1482393  Matched         Block      NaN  ...      Dry   \n",
       "3       3503937  Matched         Block      NaN  ...      Dry   \n",
       "4       1807429  Matched  Intersection  34387.0  ...      Wet   \n",
       "...         ...      ...           ...      ...  ...      ...   \n",
       "194668  E871089  Matched         Block      NaN  ...      Dry   \n",
       "194669  E876731  Matched         Block      NaN  ...      Wet   \n",
       "194670  3809984  Matched  Intersection  24760.0  ...      Dry   \n",
       "194671  3810083  Matched  Intersection  24349.0  ...      Dry   \n",
       "194672  E868008  Matched         Block      NaN  ...      Wet   \n",
       "\n",
       "                      LIGHTCOND PEDROWNOTGRNT  SDOTCOLNUM SPEEDING ST_COLCODE  \\\n",
       "0                      Daylight           NaN         NaN      NaN         10   \n",
       "1       Dark - Street Lights On           NaN   6354039.0      NaN         11   \n",
       "2                      Daylight           NaN   4323031.0      NaN         32   \n",
       "3                      Daylight           NaN         NaN      NaN         23   \n",
       "4                      Daylight           NaN   4028032.0      NaN         10   \n",
       "...                         ...           ...         ...      ...        ...   \n",
       "194668                 Daylight           NaN         NaN      NaN         24   \n",
       "194669                 Daylight           NaN         NaN      NaN         13   \n",
       "194670                 Daylight           NaN         NaN      NaN         28   \n",
       "194671                     Dusk           NaN         NaN      NaN          5   \n",
       "194672                 Daylight           NaN         NaN      NaN         14   \n",
       "\n",
       "                                               ST_COLDESC  SEGLANEKEY  \\\n",
       "0                                       Entering at angle           0   \n",
       "1       From same direction - both going straight - bo...           0   \n",
       "2                                  One parked--one moving           0   \n",
       "3                        From same direction - all others           0   \n",
       "4                                       Entering at angle           0   \n",
       "...                                                   ...         ...   \n",
       "194668    From opposite direction - both moving - head-on           0   \n",
       "194669  From same direction - both going straight - bo...           0   \n",
       "194670  From opposite direction - one left turn - one ...           0   \n",
       "194671                       Vehicle Strikes Pedalcyclist        4308   \n",
       "194672  From same direction - both going straight - on...           0   \n",
       "\n",
       "        CROSSWALKKEY  HITPARKEDCAR  \n",
       "0                  0             N  \n",
       "1                  0             N  \n",
       "2                  0             N  \n",
       "3                  0             N  \n",
       "4                  0             N  \n",
       "...              ...           ...  \n",
       "194668             0             N  \n",
       "194669             0             N  \n",
       "194670             0             N  \n",
       "194671             0             N  \n",
       "194672             0             N  \n",
       "\n",
       "[194673 rows x 38 columns]>"
      ]
     },
     "execution_count": 7,
     "metadata": {},
     "output_type": "execute_result"
    }
   ],
   "source": [
    "df.info"
   ]
  },
  {
   "cell_type": "code",
   "execution_count": 8,
   "metadata": {},
   "outputs": [
    {
     "data": {
      "text/html": [
       "<div>\n",
       "<style scoped>\n",
       "    .dataframe tbody tr th:only-of-type {\n",
       "        vertical-align: middle;\n",
       "    }\n",
       "\n",
       "    .dataframe tbody tr th {\n",
       "        vertical-align: top;\n",
       "    }\n",
       "\n",
       "    .dataframe thead th {\n",
       "        text-align: right;\n",
       "    }\n",
       "</style>\n",
       "<table border=\"1\" class=\"dataframe\">\n",
       "  <thead>\n",
       "    <tr style=\"text-align: right;\">\n",
       "      <th></th>\n",
       "      <th>SEVERITYCODE</th>\n",
       "      <th>X</th>\n",
       "      <th>Y</th>\n",
       "      <th>OBJECTID</th>\n",
       "      <th>INCKEY</th>\n",
       "      <th>COLDETKEY</th>\n",
       "      <th>REPORTNO</th>\n",
       "      <th>STATUS</th>\n",
       "      <th>ADDRTYPE</th>\n",
       "      <th>INTKEY</th>\n",
       "      <th>...</th>\n",
       "      <th>ROADCOND</th>\n",
       "      <th>LIGHTCOND</th>\n",
       "      <th>PEDROWNOTGRNT</th>\n",
       "      <th>SDOTCOLNUM</th>\n",
       "      <th>SPEEDING</th>\n",
       "      <th>ST_COLCODE</th>\n",
       "      <th>ST_COLDESC</th>\n",
       "      <th>SEGLANEKEY</th>\n",
       "      <th>CROSSWALKKEY</th>\n",
       "      <th>HITPARKEDCAR</th>\n",
       "    </tr>\n",
       "  </thead>\n",
       "  <tbody>\n",
       "    <tr>\n",
       "      <th>0</th>\n",
       "      <td>2</td>\n",
       "      <td>-122.323148</td>\n",
       "      <td>47.703140</td>\n",
       "      <td>1</td>\n",
       "      <td>1307</td>\n",
       "      <td>1307</td>\n",
       "      <td>3502005</td>\n",
       "      <td>Matched</td>\n",
       "      <td>Intersection</td>\n",
       "      <td>37475.0</td>\n",
       "      <td>...</td>\n",
       "      <td>Wet</td>\n",
       "      <td>Daylight</td>\n",
       "      <td>NaN</td>\n",
       "      <td>NaN</td>\n",
       "      <td>NaN</td>\n",
       "      <td>10</td>\n",
       "      <td>Entering at angle</td>\n",
       "      <td>0</td>\n",
       "      <td>0</td>\n",
       "      <td>N</td>\n",
       "    </tr>\n",
       "    <tr>\n",
       "      <th>1</th>\n",
       "      <td>1</td>\n",
       "      <td>-122.347294</td>\n",
       "      <td>47.647172</td>\n",
       "      <td>2</td>\n",
       "      <td>52200</td>\n",
       "      <td>52200</td>\n",
       "      <td>2607959</td>\n",
       "      <td>Matched</td>\n",
       "      <td>Block</td>\n",
       "      <td>NaN</td>\n",
       "      <td>...</td>\n",
       "      <td>Wet</td>\n",
       "      <td>Dark - Street Lights On</td>\n",
       "      <td>NaN</td>\n",
       "      <td>6354039.0</td>\n",
       "      <td>NaN</td>\n",
       "      <td>11</td>\n",
       "      <td>From same direction - both going straight - bo...</td>\n",
       "      <td>0</td>\n",
       "      <td>0</td>\n",
       "      <td>N</td>\n",
       "    </tr>\n",
       "  </tbody>\n",
       "</table>\n",
       "<p>2 rows × 38 columns</p>\n",
       "</div>"
      ],
      "text/plain": [
       "   SEVERITYCODE           X          Y  OBJECTID  INCKEY  COLDETKEY REPORTNO  \\\n",
       "0             2 -122.323148  47.703140         1    1307       1307  3502005   \n",
       "1             1 -122.347294  47.647172         2   52200      52200  2607959   \n",
       "\n",
       "    STATUS      ADDRTYPE   INTKEY  ... ROADCOND                LIGHTCOND  \\\n",
       "0  Matched  Intersection  37475.0  ...      Wet                 Daylight   \n",
       "1  Matched         Block      NaN  ...      Wet  Dark - Street Lights On   \n",
       "\n",
       "  PEDROWNOTGRNT  SDOTCOLNUM SPEEDING ST_COLCODE  \\\n",
       "0           NaN         NaN      NaN         10   \n",
       "1           NaN   6354039.0      NaN         11   \n",
       "\n",
       "                                          ST_COLDESC  SEGLANEKEY  \\\n",
       "0                                  Entering at angle           0   \n",
       "1  From same direction - both going straight - bo...           0   \n",
       "\n",
       "   CROSSWALKKEY  HITPARKEDCAR  \n",
       "0             0             N  \n",
       "1             0             N  \n",
       "\n",
       "[2 rows x 38 columns]"
      ]
     },
     "execution_count": 8,
     "metadata": {},
     "output_type": "execute_result"
    }
   ],
   "source": [
    "df.replace(\"?\", np.nan, inplace = True)\n",
    "df.head(2)"
   ]
  },
  {
   "cell_type": "code",
   "execution_count": 9,
   "metadata": {},
   "outputs": [
    {
     "data": {
      "text/html": [
       "<div>\n",
       "<style scoped>\n",
       "    .dataframe tbody tr th:only-of-type {\n",
       "        vertical-align: middle;\n",
       "    }\n",
       "\n",
       "    .dataframe tbody tr th {\n",
       "        vertical-align: top;\n",
       "    }\n",
       "\n",
       "    .dataframe thead th {\n",
       "        text-align: right;\n",
       "    }\n",
       "</style>\n",
       "<table border=\"1\" class=\"dataframe\">\n",
       "  <thead>\n",
       "    <tr style=\"text-align: right;\">\n",
       "      <th></th>\n",
       "      <th>SEVERITYCODE</th>\n",
       "      <th>X</th>\n",
       "      <th>Y</th>\n",
       "      <th>OBJECTID</th>\n",
       "      <th>INCKEY</th>\n",
       "      <th>COLDETKEY</th>\n",
       "      <th>REPORTNO</th>\n",
       "      <th>STATUS</th>\n",
       "      <th>ADDRTYPE</th>\n",
       "      <th>INTKEY</th>\n",
       "      <th>...</th>\n",
       "      <th>ROADCOND</th>\n",
       "      <th>LIGHTCOND</th>\n",
       "      <th>PEDROWNOTGRNT</th>\n",
       "      <th>SDOTCOLNUM</th>\n",
       "      <th>SPEEDING</th>\n",
       "      <th>ST_COLCODE</th>\n",
       "      <th>ST_COLDESC</th>\n",
       "      <th>SEGLANEKEY</th>\n",
       "      <th>CROSSWALKKEY</th>\n",
       "      <th>HITPARKEDCAR</th>\n",
       "    </tr>\n",
       "  </thead>\n",
       "  <tbody>\n",
       "    <tr>\n",
       "      <th>0</th>\n",
       "      <td>False</td>\n",
       "      <td>False</td>\n",
       "      <td>False</td>\n",
       "      <td>False</td>\n",
       "      <td>False</td>\n",
       "      <td>False</td>\n",
       "      <td>False</td>\n",
       "      <td>False</td>\n",
       "      <td>False</td>\n",
       "      <td>False</td>\n",
       "      <td>...</td>\n",
       "      <td>False</td>\n",
       "      <td>False</td>\n",
       "      <td>True</td>\n",
       "      <td>True</td>\n",
       "      <td>True</td>\n",
       "      <td>False</td>\n",
       "      <td>False</td>\n",
       "      <td>False</td>\n",
       "      <td>False</td>\n",
       "      <td>False</td>\n",
       "    </tr>\n",
       "    <tr>\n",
       "      <th>1</th>\n",
       "      <td>False</td>\n",
       "      <td>False</td>\n",
       "      <td>False</td>\n",
       "      <td>False</td>\n",
       "      <td>False</td>\n",
       "      <td>False</td>\n",
       "      <td>False</td>\n",
       "      <td>False</td>\n",
       "      <td>False</td>\n",
       "      <td>True</td>\n",
       "      <td>...</td>\n",
       "      <td>False</td>\n",
       "      <td>False</td>\n",
       "      <td>True</td>\n",
       "      <td>False</td>\n",
       "      <td>True</td>\n",
       "      <td>False</td>\n",
       "      <td>False</td>\n",
       "      <td>False</td>\n",
       "      <td>False</td>\n",
       "      <td>False</td>\n",
       "    </tr>\n",
       "  </tbody>\n",
       "</table>\n",
       "<p>2 rows × 38 columns</p>\n",
       "</div>"
      ],
      "text/plain": [
       "   SEVERITYCODE      X      Y  OBJECTID  INCKEY  COLDETKEY  REPORTNO  STATUS  \\\n",
       "0         False  False  False     False   False      False     False   False   \n",
       "1         False  False  False     False   False      False     False   False   \n",
       "\n",
       "   ADDRTYPE  INTKEY  ...  ROADCOND  LIGHTCOND  PEDROWNOTGRNT  SDOTCOLNUM  \\\n",
       "0     False   False  ...     False      False           True        True   \n",
       "1     False    True  ...     False      False           True       False   \n",
       "\n",
       "   SPEEDING  ST_COLCODE  ST_COLDESC  SEGLANEKEY  CROSSWALKKEY  HITPARKEDCAR  \n",
       "0      True       False       False       False         False         False  \n",
       "1      True       False       False       False         False         False  \n",
       "\n",
       "[2 rows x 38 columns]"
      ]
     },
     "execution_count": 9,
     "metadata": {},
     "output_type": "execute_result"
    }
   ],
   "source": [
    "missing_data = df.isnull() # True - null data (NaN, 0)\n",
    "missing_data.head(2)"
   ]
  },
  {
   "cell_type": "code",
   "execution_count": 10,
   "metadata": {},
   "outputs": [
    {
     "name": "stdout",
     "output_type": "stream",
     "text": [
      "SEVERITYCODE\n",
      "False    194673\n",
      "Name: SEVERITYCODE, dtype: int64\n",
      "\n",
      "X\n",
      "False    189339\n",
      "True       5334\n",
      "Name: X, dtype: int64\n",
      "\n",
      "Y\n",
      "False    189339\n",
      "True       5334\n",
      "Name: Y, dtype: int64\n",
      "\n",
      "OBJECTID\n",
      "False    194673\n",
      "Name: OBJECTID, dtype: int64\n",
      "\n",
      "INCKEY\n",
      "False    194673\n",
      "Name: INCKEY, dtype: int64\n",
      "\n",
      "COLDETKEY\n",
      "False    194673\n",
      "Name: COLDETKEY, dtype: int64\n",
      "\n",
      "REPORTNO\n",
      "False    194673\n",
      "Name: REPORTNO, dtype: int64\n",
      "\n",
      "STATUS\n",
      "False    194673\n",
      "Name: STATUS, dtype: int64\n",
      "\n",
      "ADDRTYPE\n",
      "False    192747\n",
      "True       1926\n",
      "Name: ADDRTYPE, dtype: int64\n",
      "\n",
      "INTKEY\n",
      "True     129603\n",
      "False     65070\n",
      "Name: INTKEY, dtype: int64\n",
      "\n",
      "LOCATION\n",
      "False    191996\n",
      "True       2677\n",
      "Name: LOCATION, dtype: int64\n",
      "\n",
      "EXCEPTRSNCODE\n",
      "True     109862\n",
      "False     84811\n",
      "Name: EXCEPTRSNCODE, dtype: int64\n",
      "\n",
      "EXCEPTRSNDESC\n",
      "True     189035\n",
      "False      5638\n",
      "Name: EXCEPTRSNDESC, dtype: int64\n",
      "\n",
      "SEVERITYCODE.1\n",
      "False    194673\n",
      "Name: SEVERITYCODE.1, dtype: int64\n",
      "\n",
      "SEVERITYDESC\n",
      "False    194673\n",
      "Name: SEVERITYDESC, dtype: int64\n",
      "\n",
      "COLLISIONTYPE\n",
      "False    189769\n",
      "True       4904\n",
      "Name: COLLISIONTYPE, dtype: int64\n",
      "\n",
      "PERSONCOUNT\n",
      "False    194673\n",
      "Name: PERSONCOUNT, dtype: int64\n",
      "\n",
      "PEDCOUNT\n",
      "False    194673\n",
      "Name: PEDCOUNT, dtype: int64\n",
      "\n",
      "PEDCYLCOUNT\n",
      "False    194673\n",
      "Name: PEDCYLCOUNT, dtype: int64\n",
      "\n",
      "VEHCOUNT\n",
      "False    194673\n",
      "Name: VEHCOUNT, dtype: int64\n",
      "\n",
      "INCDATE\n",
      "False    194673\n",
      "Name: INCDATE, dtype: int64\n",
      "\n",
      "INCDTTM\n",
      "False    194673\n",
      "Name: INCDTTM, dtype: int64\n",
      "\n",
      "JUNCTIONTYPE\n",
      "False    188344\n",
      "True       6329\n",
      "Name: JUNCTIONTYPE, dtype: int64\n",
      "\n",
      "SDOT_COLCODE\n",
      "False    194673\n",
      "Name: SDOT_COLCODE, dtype: int64\n",
      "\n",
      "SDOT_COLDESC\n",
      "False    194673\n",
      "Name: SDOT_COLDESC, dtype: int64\n",
      "\n",
      "INATTENTIONIND\n",
      "True     164868\n",
      "False     29805\n",
      "Name: INATTENTIONIND, dtype: int64\n",
      "\n",
      "UNDERINFL\n",
      "False    189789\n",
      "True       4884\n",
      "Name: UNDERINFL, dtype: int64\n",
      "\n",
      "WEATHER\n",
      "False    189592\n",
      "True       5081\n",
      "Name: WEATHER, dtype: int64\n",
      "\n",
      "ROADCOND\n",
      "False    189661\n",
      "True       5012\n",
      "Name: ROADCOND, dtype: int64\n",
      "\n",
      "LIGHTCOND\n",
      "False    189503\n",
      "True       5170\n",
      "Name: LIGHTCOND, dtype: int64\n",
      "\n",
      "PEDROWNOTGRNT\n",
      "True     190006\n",
      "False      4667\n",
      "Name: PEDROWNOTGRNT, dtype: int64\n",
      "\n",
      "SDOTCOLNUM\n",
      "False    114936\n",
      "True      79737\n",
      "Name: SDOTCOLNUM, dtype: int64\n",
      "\n",
      "SPEEDING\n",
      "True     185340\n",
      "False      9333\n",
      "Name: SPEEDING, dtype: int64\n",
      "\n",
      "ST_COLCODE\n",
      "False    194655\n",
      "True         18\n",
      "Name: ST_COLCODE, dtype: int64\n",
      "\n",
      "ST_COLDESC\n",
      "False    189769\n",
      "True       4904\n",
      "Name: ST_COLDESC, dtype: int64\n",
      "\n",
      "SEGLANEKEY\n",
      "False    194673\n",
      "Name: SEGLANEKEY, dtype: int64\n",
      "\n",
      "CROSSWALKKEY\n",
      "False    194673\n",
      "Name: CROSSWALKKEY, dtype: int64\n",
      "\n",
      "HITPARKEDCAR\n",
      "False    194673\n",
      "Name: HITPARKEDCAR, dtype: int64\n",
      "\n"
     ]
    }
   ],
   "source": [
    "for column in missing_data.columns.values.tolist():\n",
    "    print(column)\n",
    "    print (missing_data[column].value_counts())\n",
    "    print(\"\")"
   ]
  },
  {
   "cell_type": "code",
   "execution_count": 11,
   "metadata": {},
   "outputs": [
    {
     "data": {
      "text/plain": [
       "Index(['SEVERITYCODE', 'X', 'Y', 'OBJECTID', 'INCKEY', 'COLDETKEY', 'REPORTNO',\n",
       "       'STATUS', 'ADDRTYPE', 'INTKEY', 'LOCATION', 'EXCEPTRSNCODE',\n",
       "       'EXCEPTRSNDESC', 'SEVERITYCODE.1', 'SEVERITYDESC', 'COLLISIONTYPE',\n",
       "       'PERSONCOUNT', 'PEDCOUNT', 'PEDCYLCOUNT', 'VEHCOUNT', 'INCDATE',\n",
       "       'INCDTTM', 'JUNCTIONTYPE', 'SDOT_COLCODE', 'SDOT_COLDESC',\n",
       "       'INATTENTIONIND', 'UNDERINFL', 'WEATHER', 'ROADCOND', 'LIGHTCOND',\n",
       "       'PEDROWNOTGRNT', 'SDOTCOLNUM', 'SPEEDING', 'ST_COLCODE', 'ST_COLDESC',\n",
       "       'SEGLANEKEY', 'CROSSWALKKEY', 'HITPARKEDCAR'],\n",
       "      dtype='object')"
      ]
     },
     "execution_count": 11,
     "metadata": {},
     "output_type": "execute_result"
    }
   ],
   "source": [
    "df.columns"
   ]
  },
  {
   "cell_type": "markdown",
   "metadata": {},
   "source": [
    "## Data Understanding and Pre-Processing"
   ]
  },
  {
   "cell_type": "markdown",
   "metadata": {},
   "source": [
    "\n",
    "\n",
    "<h3 id=\"deal_missing_values\">Deal with missing data</h3>\n",
    "\n",
    "<ol>\n",
    "    <li>drop data<br>\n",
    "        a. drop the whole row<br>\n",
    "        b. drop the whole column\n",
    "    </li>\n",
    "    <li>replace data<br>\n",
    "        a. replace it by mean<br>\n",
    "        b. replace it by frequency<br>\n",
    "        c. replace it based on other functions\n",
    "    </li>\n",
    "</ol>"
   ]
  },
  {
   "cell_type": "code",
   "execution_count": 12,
   "metadata": {},
   "outputs": [],
   "source": [
    "# df['SEVERITYCODE'].value_counts(dropna=False) #   A code that corresponds to the severity of the collision:\n",
    "#                                               #   1—property damage\n",
    "#                                               #   2—injury\n",
    "#                                               #   _____ target is below ____ duplicate data"
   ]
  },
  {
   "cell_type": "code",
   "execution_count": 13,
   "metadata": {},
   "outputs": [
    {
     "data": {
      "text/plain": [
       " NaN           5334\n",
       "-122.332653     265\n",
       "-122.344896     254\n",
       "-122.328079     252\n",
       "-122.344997     239\n",
       "               ... \n",
       "-122.328299       1\n",
       "-122.296699       1\n",
       "-122.273686       1\n",
       "-122.288670       1\n",
       "-122.322090       1\n",
       "Name: X, Length: 23564, dtype: int64"
      ]
     },
     "execution_count": 13,
     "metadata": {},
     "output_type": "execute_result"
    }
   ],
   "source": [
    "df['X'].value_counts(dropna=False)           # X Coordinate - Useful data\n",
    "                                             #      - Useful data"
   ]
  },
  {
   "cell_type": "code",
   "execution_count": 14,
   "metadata": {},
   "outputs": [
    {
     "data": {
      "text/plain": [
       "-122.332653    265\n",
       "-122.344896    254\n",
       "-122.328079    252\n",
       "-122.344997    239\n",
       "-122.299160    231\n",
       "              ... \n",
       "-122.322768      1\n",
       "-122.288680      1\n",
       "-122.405699      1\n",
       "-122.323578      1\n",
       "-122.343898      1\n",
       "Name: X, Length: 23563, dtype: int64"
      ]
     },
     "execution_count": 14,
     "metadata": {},
     "output_type": "execute_result"
    }
   ],
   "source": [
    "# simply drop whole row with NaN in column\n",
    "df.dropna(subset=['X'], axis=0, inplace=True)\n",
    "# reset index, because we droped some rows\n",
    "df.reset_index(drop=True, inplace=True)\n",
    "\n",
    "df['X'].value_counts(dropna=False)  "
   ]
  },
  {
   "cell_type": "code",
   "execution_count": 15,
   "metadata": {},
   "outputs": [
    {
     "data": {
      "text/plain": [
       "47.708655    265\n",
       "47.717173    254\n",
       "47.604161    252\n",
       "47.725036    239\n",
       "47.579673    231\n",
       "            ... \n",
       "47.556705      1\n",
       "47.709101      1\n",
       "47.513899      1\n",
       "47.565438      1\n",
       "47.563521      1\n",
       "Name: Y, Length: 23839, dtype: int64"
      ]
     },
     "execution_count": 15,
     "metadata": {},
     "output_type": "execute_result"
    }
   ],
   "source": [
    "df['Y'].value_counts(dropna=False)           # Y Coordinate - Useful data\n",
    "                                             #      - Useful data"
   ]
  },
  {
   "cell_type": "code",
   "execution_count": 16,
   "metadata": {},
   "outputs": [],
   "source": [
    "# df['OBJECTID'].value_counts(dropna=False)  #     ESRI unique identifier\n",
    "#                                            #     - Useless data (probably)"
   ]
  },
  {
   "cell_type": "code",
   "execution_count": 17,
   "metadata": {},
   "outputs": [],
   "source": [
    "# df['INCKEY'].value_counts(dropna=False) #  A unique key for the incident\n",
    "#                                         #  - Useless data (probably)"
   ]
  },
  {
   "cell_type": "code",
   "execution_count": 18,
   "metadata": {},
   "outputs": [],
   "source": [
    "# df['COLDETKEY'].value_counts(dropna=False) #   Secondary key for the incident\n",
    "#                                            #   - Useless data (probably)"
   ]
  },
  {
   "cell_type": "code",
   "execution_count": 19,
   "metadata": {},
   "outputs": [],
   "source": [
    "# df['REPORTNO'].value_counts(dropna=False) #    Report number\n",
    "#                                           #    Useless data (probably)"
   ]
  },
  {
   "cell_type": "code",
   "execution_count": 20,
   "metadata": {
    "scrolled": true
   },
   "outputs": [
    {
     "data": {
      "text/plain": [
       "Matched      184601\n",
       "Unmatched      4738\n",
       "Name: STATUS, dtype: int64"
      ]
     },
     "execution_count": 20,
     "metadata": {},
     "output_type": "execute_result"
    }
   ],
   "source": [
    "df['STATUS'].value_counts(dropna=False) #       No description\n",
    "                                        #      - Useful data\n"
   ]
  },
  {
   "cell_type": "markdown",
   "metadata": {},
   "source": [
    "### We could use LabelEncoder to categorize values. But I chose to do it step by step."
   ]
  },
  {
   "cell_type": "code",
   "execution_count": 21,
   "metadata": {},
   "outputs": [
    {
     "data": {
      "text/plain": [
       "1    184601\n",
       "0      4738\n",
       "Name: STATUS, dtype: int64"
      ]
     },
     "execution_count": 21,
     "metadata": {},
     "output_type": "execute_result"
    }
   ],
   "source": [
    "df['STATUS'].replace(to_replace=\"Matched\", value=1, inplace=True)\n",
    "df['STATUS'].replace(to_replace=\"Unmatched\", value=0, inplace=True)\n",
    "\n",
    "df['STATUS'] = df['STATUS'].astype(\"int\")\n",
    "\n",
    "df['STATUS'].value_counts(dropna=False)"
   ]
  },
  {
   "cell_type": "code",
   "execution_count": 22,
   "metadata": {
    "scrolled": true
   },
   "outputs": [
    {
     "data": {
      "text/plain": [
       "Block           124591\n",
       "Intersection     64748\n",
       "Name: ADDRTYPE, dtype: int64"
      ]
     },
     "execution_count": 22,
     "metadata": {},
     "output_type": "execute_result"
    }
   ],
   "source": [
    "df['ADDRTYPE'].value_counts(dropna=False) #      Collision address type:\n",
    "                                                    # • Alley\n",
    "                                                    # • Block\n",
    "                                                    # • Intersection\n",
    "            \n",
    "                                          #      - Useful data"
   ]
  },
  {
   "cell_type": "code",
   "execution_count": 23,
   "metadata": {},
   "outputs": [
    {
     "data": {
      "text/plain": [
       "0    124591\n",
       "1     64748\n",
       "Name: ADDRTYPE, dtype: int64"
      ]
     },
     "execution_count": 23,
     "metadata": {},
     "output_type": "execute_result"
    }
   ],
   "source": [
    "df['ADDRTYPE'].replace(to_replace=\"Block\", value=0, inplace=True)\n",
    "df['ADDRTYPE'].replace(to_replace=\"Intersection\", value=1, inplace=True)\n",
    "\n",
    "df['ADDRTYPE'] = df['ADDRTYPE'].astype(\"int\")\n",
    "\n",
    "df['ADDRTYPE'].value_counts(dropna=False)"
   ]
  },
  {
   "cell_type": "code",
   "execution_count": 24,
   "metadata": {},
   "outputs": [
    {
     "data": {
      "text/plain": [
       "NaN        124591\n",
       "29973.0       252\n",
       "29933.0       160\n",
       "29913.0       138\n",
       "29549.0       136\n",
       "            ...  \n",
       "31144.0         1\n",
       "36782.0         1\n",
       "36781.0         1\n",
       "26580.0         1\n",
       "31226.0         1\n",
       "Name: INTKEY, Length: 7516, dtype: int64"
      ]
     },
     "execution_count": 24,
     "metadata": {},
     "output_type": "execute_result"
    }
   ],
   "source": [
    "df['INTKEY'].value_counts(dropna=False) #       Key that corresponds to the intersection associated with a collision\n",
    "\n",
    "                                        #       We can draw the attention of Seattle authorities to problem intersections\n",
    "                                        #       - Useful data"
   ]
  },
  {
   "cell_type": "code",
   "execution_count": 25,
   "metadata": {},
   "outputs": [
    {
     "data": {
      "text/plain": [
       "0         124591\n",
       "29973        252\n",
       "29933        160\n",
       "29913        138\n",
       "29549        136\n",
       "           ...  \n",
       "28103          1\n",
       "337518         1\n",
       "24257          1\n",
       "25025          1\n",
       "26356          1\n",
       "Name: INTKEY, Length: 7516, dtype: int64"
      ]
     },
     "execution_count": 25,
     "metadata": {},
     "output_type": "execute_result"
    }
   ],
   "source": [
    "df['INTKEY'].replace(np.nan, 0, inplace=True)\n",
    "\n",
    "df[['INTKEY']] = df[['INTKEY']].astype(\"int\")\n",
    "\n",
    "df['INTKEY'].value_counts(dropna=False) "
   ]
  },
  {
   "cell_type": "code",
   "execution_count": 26,
   "metadata": {},
   "outputs": [],
   "source": [
    "# df['LOCATION'].value_counts(dropna=False) #       Description of the general location of the collision\n",
    "\n",
    "#                                           #       We can draw the attention of Seattle authorities to problem locations\n",
    "#                                           #       - Useless data(we already have coordinates)"
   ]
  },
  {
   "cell_type": "code",
   "execution_count": 27,
   "metadata": {},
   "outputs": [],
   "source": [
    "# df['EXCEPTRSNCODE'].value_counts(dropna=False)  #      No description\n",
    "#                                                 #      (duplicate data of below column)\n",
    "    \n",
    "#                                                 #      - Useless data (duplicate data of ['EXCEPTRSNDESC'])"
   ]
  },
  {
   "cell_type": "code",
   "execution_count": 28,
   "metadata": {},
   "outputs": [],
   "source": [
    "# df['EXCEPTRSNDESC'].value_counts(dropna=False) #       No description\n",
    "\n",
    "#                                                #       - Useless data"
   ]
  },
  {
   "cell_type": "code",
   "execution_count": 29,
   "metadata": {},
   "outputs": [],
   "source": [
    "# df['SEVERITYCODE.1'].value_counts(dropna=False) #  A code that corresponds to the severity of the collision:\n",
    "#                                                 #  1—prop damage\n",
    "#                                                 #  2—injury\n",
    "         \n",
    "#                                                 #  Useless data (duplicate data of our target)  "
   ]
  },
  {
   "cell_type": "code",
   "execution_count": 30,
   "metadata": {},
   "outputs": [
    {
     "data": {
      "text/plain": [
       "Property Damage Only Collision    132221\n",
       "Injury Collision                   57118\n",
       "Name: SEVERITYDESC, dtype: int64"
      ]
     },
     "execution_count": 30,
     "metadata": {},
     "output_type": "execute_result"
    }
   ],
   "source": [
    "df['SEVERITYDESC'].value_counts(dropna=False) #    A detailed description of the severity of the collision\n",
    "                                              #    We will choose this feature as the target in our research.    ___ !!! ___"
   ]
  },
  {
   "cell_type": "code",
   "execution_count": 31,
   "metadata": {},
   "outputs": [
    {
     "data": {
      "text/plain": [
       "Property Damage Only Collision    132221\n",
       "Injury Collision                   57118\n",
       "Name: SEVERITYDESC, dtype: int64"
      ]
     },
     "execution_count": 31,
     "metadata": {},
     "output_type": "execute_result"
    }
   ],
   "source": [
    "df['SEVERITYDESC'] = df['SEVERITYDESC'].astype(\"category\")\n",
    "\n",
    "df['SEVERITYDESC'].value_counts(dropna=False)"
   ]
  },
  {
   "cell_type": "code",
   "execution_count": 32,
   "metadata": {},
   "outputs": [
    {
     "data": {
      "text/plain": [
       "Parked Car    46381\n",
       "Angles        34460\n",
       "Rear Ended    32968\n",
       "Other         22277\n",
       "Sideswipe     18034\n",
       "Left Turn     13624\n",
       "Pedestrian     6551\n",
       "Cycles         5378\n",
       "NaN            4757\n",
       "Right Turn     2912\n",
       "Head On        1997\n",
       "Name: COLLISIONTYPE, dtype: int64"
      ]
     },
     "execution_count": 32,
     "metadata": {},
     "output_type": "execute_result"
    }
   ],
   "source": [
    "df['COLLISIONTYPE'].value_counts(dropna=False) #     Collision type\n",
    "                                               #     We can draw the attention of Seattle authorities to problem parked car\n",
    "                                               #      - Useful data "
   ]
  },
  {
   "cell_type": "code",
   "execution_count": 33,
   "metadata": {},
   "outputs": [
    {
     "data": {
      "text/plain": [
       "0    46381\n",
       "1    34460\n",
       "2    32968\n",
       "3    27034\n",
       "4    18034\n",
       "5    13624\n",
       "6     6551\n",
       "7     5378\n",
       "8     2912\n",
       "9     1997\n",
       "Name: COLLISIONTYPE, dtype: int64"
      ]
     },
     "execution_count": 33,
     "metadata": {},
     "output_type": "execute_result"
    }
   ],
   "source": [
    "df['COLLISIONTYPE'].replace(np.nan, \"Other\", inplace=True)\n",
    "\n",
    "# We could use LabelEncoder to categorize values. But I chose to do it step by step.\n",
    "df['COLLISIONTYPE'].replace(to_replace=\"Parked Car\", value=0, inplace=True)\n",
    "df['COLLISIONTYPE'].replace(to_replace=\"Angles\",     value=1, inplace=True)\n",
    "df['COLLISIONTYPE'].replace(to_replace=\"Rear Ended\", value=2, inplace=True)\n",
    "df['COLLISIONTYPE'].replace(to_replace=\"Other\",      value=3, inplace=True)\n",
    "df['COLLISIONTYPE'].replace(to_replace=\"Sideswipe\",  value=4, inplace=True)\n",
    "df['COLLISIONTYPE'].replace(to_replace=\"Left Turn\",  value=5, inplace=True)\n",
    "df['COLLISIONTYPE'].replace(to_replace=\"Pedestrian\", value=6, inplace=True)\n",
    "df['COLLISIONTYPE'].replace(to_replace=\"Cycles\",     value=7, inplace=True)\n",
    "df['COLLISIONTYPE'].replace(to_replace=\"Right Turn\", value=8, inplace=True)\n",
    "df['COLLISIONTYPE'].replace(to_replace=\"Head On\",    value=9, inplace=True)\n",
    "\n",
    "df['COLLISIONTYPE'] = df['COLLISIONTYPE'].astype(\"int\")\n",
    "\n",
    "df['COLLISIONTYPE'].value_counts(dropna=False)"
   ]
  },
  {
   "cell_type": "code",
   "execution_count": 34,
   "metadata": {},
   "outputs": [
    {
     "data": {
      "text/plain": [
       "2     110986\n",
       "3      34964\n",
       "4      14435\n",
       "1      12191\n",
       "5       6473\n",
       "0       5442\n",
       "6       2659\n",
       "7       1101\n",
       "8        523\n",
       "9        208\n",
       "10       128\n",
       "11        54\n",
       "12        32\n",
       "13        21\n",
       "14        17\n",
       "15        11\n",
       "17        11\n",
       "16         7\n",
       "18         6\n",
       "44         6\n",
       "19         5\n",
       "20         5\n",
       "25         5\n",
       "26         4\n",
       "22         4\n",
       "27         3\n",
       "28         3\n",
       "29         3\n",
       "47         3\n",
       "32         3\n",
       "34         3\n",
       "37         3\n",
       "23         2\n",
       "21         2\n",
       "24         2\n",
       "30         2\n",
       "36         2\n",
       "57         1\n",
       "31         1\n",
       "35         1\n",
       "39         1\n",
       "41         1\n",
       "43         1\n",
       "48         1\n",
       "53         1\n",
       "54         1\n",
       "81         1\n",
       "Name: PERSONCOUNT, dtype: int64"
      ]
     },
     "execution_count": 34,
     "metadata": {},
     "output_type": "execute_result"
    }
   ],
   "source": [
    "df['PERSONCOUNT'].value_counts(dropna=False) #    The total number of people involved in the collision\n",
    "                                             #     - Useful data "
   ]
  },
  {
   "cell_type": "code",
   "execution_count": 35,
   "metadata": {},
   "outputs": [
    {
     "data": {
      "text/plain": [
       "0    182460\n",
       "1      6626\n",
       "2       225\n",
       "3        22\n",
       "4         4\n",
       "6         1\n",
       "5         1\n",
       "Name: PEDCOUNT, dtype: int64"
      ]
     },
     "execution_count": 35,
     "metadata": {},
     "output_type": "execute_result"
    }
   ],
   "source": [
    "df['PEDCOUNT'].value_counts(dropna=False) # The number of pedestrians involved in the collision. This is entered by the state.\n",
    "                                          #  - Useful data "
   ]
  },
  {
   "cell_type": "code",
   "execution_count": 36,
   "metadata": {},
   "outputs": [
    {
     "data": {
      "text/plain": [
       "0    183892\n",
       "1      5404\n",
       "2        43\n",
       "Name: PEDCYLCOUNT, dtype: int64"
      ]
     },
     "execution_count": 36,
     "metadata": {},
     "output_type": "execute_result"
    }
   ],
   "source": [
    "df['PEDCYLCOUNT'].value_counts(dropna=False) #  The number of bicycles involved in the collision. This is entered by the state.\n",
    "                                             #   - Useful data "
   ]
  },
  {
   "cell_type": "code",
   "execution_count": 37,
   "metadata": {},
   "outputs": [
    {
     "data": {
      "text/plain": [
       "2     143994\n",
       "1      24557\n",
       "3      12731\n",
       "0       4937\n",
       "4       2381\n",
       "5        520\n",
       "6        145\n",
       "7         42\n",
       "8         15\n",
       "9          9\n",
       "11         5\n",
       "10         2\n",
       "12         1\n",
       "Name: VEHCOUNT, dtype: int64"
      ]
     },
     "execution_count": 37,
     "metadata": {},
     "output_type": "execute_result"
    }
   ],
   "source": [
    "df['VEHCOUNT'].value_counts(dropna=False) #   The number of vehicles involved in the collision. This is entered by the state.\n",
    "                                          #    - Useful data "
   ]
  },
  {
   "cell_type": "code",
   "execution_count": 38,
   "metadata": {},
   "outputs": [],
   "source": [
    "# df['INCDATE'].value_counts(dropna=False) #  - It's very interesting data, but I have to skip it for now.  "
   ]
  },
  {
   "cell_type": "code",
   "execution_count": 39,
   "metadata": {},
   "outputs": [],
   "source": [
    "# df['INCDTTM'].value_counts(dropna=False) #  - It's very interesting data, but I have to skip it for now.  "
   ]
  },
  {
   "cell_type": "code",
   "execution_count": 40,
   "metadata": {},
   "outputs": [
    {
     "data": {
      "text/plain": [
       "Mid-Block (not related to intersection)              87390\n",
       "At Intersection (intersection related)               62491\n",
       "Mid-Block (but intersection related)                 22465\n",
       "Driveway Junction                                    10580\n",
       "NaN                                                   4193\n",
       "At Intersection (but not related to intersection)     2071\n",
       "Ramp Junction                                          143\n",
       "Unknown                                                  6\n",
       "Name: JUNCTIONTYPE, dtype: int64"
      ]
     },
     "execution_count": 40,
     "metadata": {},
     "output_type": "execute_result"
    }
   ],
   "source": [
    "df['JUNCTIONTYPE'].value_counts(dropna=False)  #    Category of junction at which collision took place.\n",
    "                                               #    - Useful data "
   ]
  },
  {
   "cell_type": "code",
   "execution_count": 41,
   "metadata": {},
   "outputs": [
    {
     "data": {
      "text/plain": [
       "0    87390\n",
       "1    62491\n",
       "2    22465\n",
       "3    10580\n",
       "4     4199\n",
       "6     2071\n",
       "5      143\n",
       "Name: JUNCTIONTYPE, dtype: int64"
      ]
     },
     "execution_count": 41,
     "metadata": {},
     "output_type": "execute_result"
    }
   ],
   "source": [
    "df['JUNCTIONTYPE'].replace(np.nan, \"Unknown\", inplace=True)\n",
    "\n",
    "df['JUNCTIONTYPE'].replace(to_replace=\"Mid-Block (not related to intersection)\",value=0, inplace=True)\n",
    "df['JUNCTIONTYPE'].replace(to_replace=\"At Intersection (intersection related)\", value=1, inplace=True)\n",
    "df['JUNCTIONTYPE'].replace(to_replace=\"Mid-Block (but intersection related)\",   value=2, inplace=True)\n",
    "df['JUNCTIONTYPE'].replace(to_replace=\"Driveway Junction\",                      value=3, inplace=True)\n",
    "df['JUNCTIONTYPE'].replace(to_replace=\"Unknown\",                                value=4, inplace=True)\n",
    "df['JUNCTIONTYPE'].replace(to_replace=\"Ramp Junction\",                          value=5, inplace=True)\n",
    "df['JUNCTIONTYPE'].replace(to_replace=\"At Intersection (but not related to intersection)\",value=6, inplace=True)\n",
    "\n",
    "df[['JUNCTIONTYPE']] = df[['JUNCTIONTYPE']].astype(\"int\")\n",
    "\n",
    "df['JUNCTIONTYPE'].value_counts(dropna=False)"
   ]
  },
  {
   "cell_type": "code",
   "execution_count": 42,
   "metadata": {},
   "outputs": [
    {
     "data": {
      "text/plain": [
       "11    84538\n",
       "14    53213\n",
       "16     9780\n",
       "28     8631\n",
       "0      7401\n",
       "24     6485\n",
       "13     5780\n",
       "26     4102\n",
       "18     3091\n",
       "15     1597\n",
       "12     1422\n",
       "51     1305\n",
       "29      463\n",
       "21      181\n",
       "56      178\n",
       "27      165\n",
       "54      137\n",
       "23      122\n",
       "48      106\n",
       "25      102\n",
       "31      102\n",
       "34       91\n",
       "64       75\n",
       "69       69\n",
       "33       53\n",
       "55       50\n",
       "66       23\n",
       "22       16\n",
       "32       12\n",
       "53        9\n",
       "44        8\n",
       "61        7\n",
       "35        6\n",
       "58        5\n",
       "68        4\n",
       "36        4\n",
       "46        3\n",
       "52        2\n",
       "47        1\n",
       "Name: SDOT_COLCODE, dtype: int64"
      ]
     },
     "execution_count": 42,
     "metadata": {},
     "output_type": "execute_result"
    }
   ],
   "source": [
    "df['SDOT_COLCODE'].value_counts(dropna=False)  #  - Useful data "
   ]
  },
  {
   "cell_type": "code",
   "execution_count": 43,
   "metadata": {},
   "outputs": [],
   "source": [
    "# df['SDOT_COLDESC'].value_counts(dropna=False) #   -   Useless data (duplicate data)"
   ]
  },
  {
   "cell_type": "code",
   "execution_count": 44,
   "metadata": {},
   "outputs": [
    {
     "data": {
      "text/plain": [
       "NaN    160163\n",
       "Y       29176\n",
       "Name: INATTENTIONIND, dtype: int64"
      ]
     },
     "execution_count": 44,
     "metadata": {},
     "output_type": "execute_result"
    }
   ],
   "source": [
    "df['INATTENTIONIND'].value_counts(dropna=False) # Whether or not collision was due to inattention. (Y/N)\n",
    "                                                # - Useful data  "
   ]
  },
  {
   "cell_type": "code",
   "execution_count": 45,
   "metadata": {},
   "outputs": [
    {
     "data": {
      "text/plain": [
       "0    160163\n",
       "1     29176\n",
       "Name: INATTENTIONIND, dtype: int64"
      ]
     },
     "execution_count": 45,
     "metadata": {},
     "output_type": "execute_result"
    }
   ],
   "source": [
    "df['INATTENTIONIND'].replace(np.nan, 0, inplace=True)\n",
    "df['INATTENTIONIND'].replace(to_replace=\"Y\", value=1, inplace=True)\n",
    "\n",
    "df[['INATTENTIONIND']] = df[['INATTENTIONIND']].astype(\"int\")\n",
    "\n",
    "df['INATTENTIONIND'].value_counts(dropna=False)"
   ]
  },
  {
   "cell_type": "code",
   "execution_count": 46,
   "metadata": {},
   "outputs": [
    {
     "data": {
      "text/plain": [
       "N      97639\n",
       "0      78082\n",
       "Y       5002\n",
       "NaN     4737\n",
       "1       3879\n",
       "Name: UNDERINFL, dtype: int64"
      ]
     },
     "execution_count": 46,
     "metadata": {},
     "output_type": "execute_result"
    }
   ],
   "source": [
    "df['UNDERINFL'].value_counts(dropna=False)   # - Useful data (Not description)"
   ]
  },
  {
   "cell_type": "code",
   "execution_count": 47,
   "metadata": {},
   "outputs": [
    {
     "data": {
      "text/plain": [
       "3    97639\n",
       "0    78082\n",
       "2     5002\n",
       "4     4737\n",
       "1     3879\n",
       "Name: UNDERINFL, dtype: int64"
      ]
     },
     "execution_count": 47,
     "metadata": {},
     "output_type": "execute_result"
    }
   ],
   "source": [
    "df['UNDERINFL'].replace(np.nan, \"Unknown\", inplace=True)\n",
    "\n",
    "df['UNDERINFL'].replace(to_replace=\"Unknown\",  value=4, inplace=True)\n",
    "df['UNDERINFL'].replace(to_replace=\"N\",        value=3, inplace=True)\n",
    "df['UNDERINFL'].replace(to_replace=\"Y\",        value=2, inplace=True)\n",
    "\n",
    "df[['UNDERINFL']] = df[['UNDERINFL']].astype(\"int\")\n",
    "\n",
    "df['UNDERINFL'].value_counts(dropna=False)"
   ]
  },
  {
   "cell_type": "code",
   "execution_count": 48,
   "metadata": {},
   "outputs": [
    {
     "data": {
      "text/plain": [
       "Clear                       108959\n",
       "Raining                      32015\n",
       "Overcast                     27136\n",
       "Unknown                      13893\n",
       "NaN                           4925\n",
       "Snowing                        894\n",
       "Other                          773\n",
       "Fog/Smog/Smoke                 553\n",
       "Sleet/Hail/Freezing Rain       112\n",
       "Blowing Sand/Dirt               50\n",
       "Severe Crosswind                24\n",
       "Partly Cloudy                    5\n",
       "Name: WEATHER, dtype: int64"
      ]
     },
     "execution_count": 48,
     "metadata": {},
     "output_type": "execute_result"
    }
   ],
   "source": [
    "df['WEATHER'].value_counts(dropna=False)     # A description of the weather conditions during the time of the collision.\n",
    "                                             # - Useful data  "
   ]
  },
  {
   "cell_type": "code",
   "execution_count": 49,
   "metadata": {},
   "outputs": [
    {
     "data": {
      "text/plain": [
       "0    108959\n",
       "1     32015\n",
       "2     27136\n",
       "3     19591\n",
       "4       894\n",
       "5       553\n",
       "6       112\n",
       "7        50\n",
       "8        24\n",
       "9         5\n",
       "Name: WEATHER, dtype: int64"
      ]
     },
     "execution_count": 49,
     "metadata": {},
     "output_type": "execute_result"
    }
   ],
   "source": [
    "df['WEATHER'].replace(np.nan, \"Unknown\", inplace=True)\n",
    "df['WEATHER'].replace(to_replace=\"Other\", value=\"Unknown\", inplace=True) \n",
    "\n",
    "df['WEATHER'].replace(to_replace=\"Clear\",                    value=0, inplace=True)\n",
    "df['WEATHER'].replace(to_replace=\"Raining\",                  value=1, inplace=True)\n",
    "df['WEATHER'].replace(to_replace=\"Overcast\",                 value=2, inplace=True)\n",
    "df['WEATHER'].replace(to_replace=\"Unknown\",                  value=3, inplace=True)\n",
    "df['WEATHER'].replace(to_replace=\"Snowing\",                  value=4, inplace=True)\n",
    "df['WEATHER'].replace(to_replace=\"Fog/Smog/Smoke\",           value=5, inplace=True)\n",
    "df['WEATHER'].replace(to_replace=\"Sleet/Hail/Freezing Rain\", value=6, inplace=True)\n",
    "df['WEATHER'].replace(to_replace=\"Blowing Sand/Dirt\",        value=7, inplace=True)\n",
    "df['WEATHER'].replace(to_replace=\"Severe Crosswind\",         value=8, inplace=True)\n",
    "df['WEATHER'].replace(to_replace=\"Partly Cloudy\",            value=9, inplace=True)\n",
    "\n",
    "\n",
    "df[['WEATHER']] = df[['WEATHER']].astype(\"int\")\n",
    "\n",
    "df['WEATHER'].value_counts(dropna=False)"
   ]
  },
  {
   "cell_type": "code",
   "execution_count": 50,
   "metadata": {},
   "outputs": [
    {
     "data": {
      "text/plain": [
       "Dry               122076\n",
       "Wet                46064\n",
       "Unknown            13839\n",
       "NaN                 4858\n",
       "Ice                 1177\n",
       "Snow/Slush           989\n",
       "Other                117\n",
       "Standing Water       102\n",
       "Sand/Mud/Dirt         64\n",
       "Oil                   53\n",
       "Name: ROADCOND, dtype: int64"
      ]
     },
     "execution_count": 50,
     "metadata": {},
     "output_type": "execute_result"
    }
   ],
   "source": [
    "df['ROADCOND'].value_counts(dropna=False)    # The condition of the road during the collision.\n",
    "                                             # - Useful data  "
   ]
  },
  {
   "cell_type": "code",
   "execution_count": 51,
   "metadata": {},
   "outputs": [
    {
     "data": {
      "text/plain": [
       "0    122076\n",
       "1     46064\n",
       "2     18814\n",
       "3      1177\n",
       "4       989\n",
       "5       102\n",
       "6        64\n",
       "7        53\n",
       "Name: ROADCOND, dtype: int64"
      ]
     },
     "execution_count": 51,
     "metadata": {},
     "output_type": "execute_result"
    }
   ],
   "source": [
    "df['ROADCOND'].replace(np.nan, \"Unknown\", inplace=True)\n",
    "df['ROADCOND'].replace(to_replace=\"Other\", value=\"Unknown\", inplace=True)\n",
    "\n",
    "df['ROADCOND'].replace(to_replace=\"Dry\",            value=0, inplace=True)\n",
    "df['ROADCOND'].replace(to_replace=\"Wet\",            value=1, inplace=True)\n",
    "df['ROADCOND'].replace(to_replace=\"Unknown\",        value=2, inplace=True)\n",
    "df['ROADCOND'].replace(to_replace=\"Ice\",            value=3, inplace=True)\n",
    "df['ROADCOND'].replace(to_replace=\"Snow/Slush\",     value=4, inplace=True)\n",
    "df['ROADCOND'].replace(to_replace=\"Standing Water\", value=5, inplace=True)\n",
    "df['ROADCOND'].replace(to_replace=\"Sand/Mud/Dirt\",  value=6, inplace=True)\n",
    "df['ROADCOND'].replace(to_replace=\"Oil\",            value=7, inplace=True)\n",
    "\n",
    "\n",
    "df[['ROADCOND']] = df[['ROADCOND']].astype(\"int\")\n",
    "\n",
    "df['ROADCOND'].value_counts(dropna=False)"
   ]
  },
  {
   "cell_type": "code",
   "execution_count": 52,
   "metadata": {},
   "outputs": [
    {
     "data": {
      "text/plain": [
       "Daylight                    113582\n",
       "Dark - Street Lights On      47314\n",
       "Unknown                      12432\n",
       "Dusk                          5775\n",
       "NaN                           5012\n",
       "Dawn                          2422\n",
       "Dark - No Street Lights       1451\n",
       "Dark - Street Lights Off      1152\n",
       "Other                          188\n",
       "Dark - Unknown Lighting         11\n",
       "Name: LIGHTCOND, dtype: int64"
      ]
     },
     "execution_count": 52,
     "metadata": {},
     "output_type": "execute_result"
    }
   ],
   "source": [
    "df['LIGHTCOND'].value_counts(dropna=False)   # The light conditions during the collision.\n",
    "                                             # - Useful data"
   ]
  },
  {
   "cell_type": "code",
   "execution_count": 53,
   "metadata": {
    "scrolled": true
   },
   "outputs": [
    {
     "data": {
      "text/plain": [
       "0    113582\n",
       "1     47314\n",
       "2     17632\n",
       "3      5775\n",
       "4      2422\n",
       "5      1451\n",
       "6      1152\n",
       "7        11\n",
       "Name: LIGHTCOND, dtype: int64"
      ]
     },
     "execution_count": 53,
     "metadata": {},
     "output_type": "execute_result"
    }
   ],
   "source": [
    "df['LIGHTCOND'].replace(np.nan, \"Unknown\", inplace=True)\n",
    "df['LIGHTCOND'].replace(to_replace=\"Other\", value=\"Unknown\", inplace=True) \n",
    "\n",
    "df['LIGHTCOND'].replace(to_replace=\"Daylight\",                 value=0, inplace=True)\n",
    "df['LIGHTCOND'].replace(to_replace=\"Dark - Street Lights On\",  value=1, inplace=True)\n",
    "df['LIGHTCOND'].replace(to_replace=\"Unknown\",                  value=2, inplace=True)\n",
    "df['LIGHTCOND'].replace(to_replace=\"Dusk\",                     value=3, inplace=True)\n",
    "df['LIGHTCOND'].replace(to_replace=\"Dawn\",                     value=4, inplace=True)\n",
    "df['LIGHTCOND'].replace(to_replace=\"Dark - No Street Lights\",  value=5, inplace=True)\n",
    "df['LIGHTCOND'].replace(to_replace=\"Dark - Street Lights Off\", value=6, inplace=True)\n",
    "df['LIGHTCOND'].replace(to_replace=\"Dark - Unknown Lighting\",  value=7, inplace=True)\n",
    "\n",
    "df[['LIGHTCOND']] = df[['LIGHTCOND']].astype(\"int\")\n",
    "\n",
    "df['LIGHTCOND'].value_counts(dropna=False)"
   ]
  },
  {
   "cell_type": "code",
   "execution_count": 54,
   "metadata": {},
   "outputs": [
    {
     "data": {
      "text/plain": [
       "NaN    184694\n",
       "Y        4645\n",
       "Name: PEDROWNOTGRNT, dtype: int64"
      ]
     },
     "execution_count": 54,
     "metadata": {},
     "output_type": "execute_result"
    }
   ],
   "source": [
    "df['PEDROWNOTGRNT'].value_counts(dropna=False) #  Whether or not the pedestrian right of way was not granted. (Y/N)\n",
    "                                               # - Useful data  "
   ]
  },
  {
   "cell_type": "code",
   "execution_count": 55,
   "metadata": {},
   "outputs": [
    {
     "data": {
      "text/plain": [
       "0    184694\n",
       "1      4645\n",
       "Name: PEDROWNOTGRNT, dtype: int64"
      ]
     },
     "execution_count": 55,
     "metadata": {},
     "output_type": "execute_result"
    }
   ],
   "source": [
    "df['PEDROWNOTGRNT'].replace(np.nan, 0, inplace=True)\n",
    "df['PEDROWNOTGRNT'].replace(to_replace=\"Y\", value=1, inplace=True) \n",
    "\n",
    "df[['PEDROWNOTGRNT']] = df[['PEDROWNOTGRNT']].astype(\"int\")\n",
    "\n",
    "df['PEDROWNOTGRNT'].value_counts(dropna=False)"
   ]
  },
  {
   "cell_type": "code",
   "execution_count": 56,
   "metadata": {},
   "outputs": [],
   "source": [
    "# df['SDOTCOLNUM'].value_counts(dropna=False) #   A number given to the collision by SDOT.\n",
    "#                                             #   - Useless data    "
   ]
  },
  {
   "cell_type": "code",
   "execution_count": 57,
   "metadata": {},
   "outputs": [
    {
     "data": {
      "text/plain": [
       "NaN    180619\n",
       "Y        8720\n",
       "Name: SPEEDING, dtype: int64"
      ]
     },
     "execution_count": 57,
     "metadata": {},
     "output_type": "execute_result"
    }
   ],
   "source": [
    "df['SPEEDING'].value_counts(dropna=False) #  Whether or not speeding was a factor in the collision. (Y/N)\n",
    "                                          #  - Useful data "
   ]
  },
  {
   "cell_type": "code",
   "execution_count": 58,
   "metadata": {},
   "outputs": [
    {
     "data": {
      "text/plain": [
       "0    180619\n",
       "1      8720\n",
       "Name: SPEEDING, dtype: int64"
      ]
     },
     "execution_count": 58,
     "metadata": {},
     "output_type": "execute_result"
    }
   ],
   "source": [
    "df['SPEEDING'].replace(np.nan, 0, inplace=True)\n",
    "df['SPEEDING'].replace(to_replace=\"Y\", value=1, inplace=True) \n",
    "\n",
    "df[['SPEEDING']] = df[['SPEEDING']].astype(\"int\")\n",
    "\n",
    "df['SPEEDING'].value_counts(dropna=False)"
   ]
  },
  {
   "cell_type": "code",
   "execution_count": 59,
   "metadata": {},
   "outputs": [],
   "source": [
    "# df['ST_COLCODE'].value_counts(dropna=False) #  - Useless data"
   ]
  },
  {
   "cell_type": "code",
   "execution_count": 60,
   "metadata": {
    "scrolled": true
   },
   "outputs": [],
   "source": [
    "# df['ST_COLDESC'].value_counts(dropna=False) #    - Useless data (duplicate data of 'ST_COLCODE')  "
   ]
  },
  {
   "cell_type": "code",
   "execution_count": 61,
   "metadata": {},
   "outputs": [
    {
     "data": {
      "text/plain": [
       "0        186583\n",
       "6532         19\n",
       "6078         16\n",
       "12162        15\n",
       "10336        14\n",
       "          ...  \n",
       "35157         1\n",
       "10817         1\n",
       "15043         1\n",
       "19064         1\n",
       "16376         1\n",
       "Name: SEGLANEKEY, Length: 1950, dtype: int64"
      ]
     },
     "execution_count": 61,
     "metadata": {},
     "output_type": "execute_result"
    }
   ],
   "source": [
    "df['SEGLANEKEY'].value_counts(dropna=False) #       A key for the lane segment in which the collision occurred.\n",
    "                                            #       Ключ участка полосы движения, на котором произошло столкновение.\n",
    "    \n",
    "                                            #       We can draw the attention of Seattle authorities to the lane segment\n",
    "        \n",
    "                                            #       - Useful data "
   ]
  },
  {
   "cell_type": "code",
   "execution_count": 62,
   "metadata": {},
   "outputs": [
    {
     "data": {
      "text/plain": [
       "0         185536\n",
       "523609        17\n",
       "520838        15\n",
       "525567        13\n",
       "521707        10\n",
       "           ...  \n",
       "619243         1\n",
       "521019         1\n",
       "630862         1\n",
       "25545          1\n",
       "522560         1\n",
       "Name: CROSSWALKKEY, Length: 2194, dtype: int64"
      ]
     },
     "execution_count": 62,
     "metadata": {},
     "output_type": "execute_result"
    }
   ],
   "source": [
    "df['CROSSWALKKEY'].value_counts(dropna=False) #        A key for the crosswalk at which the collision occurred.\n",
    "                                              #        Ключ от пешеходного перехода, на котором произошло столкновение.\n",
    "                                              #        - Useful data "
   ]
  },
  {
   "cell_type": "code",
   "execution_count": 63,
   "metadata": {},
   "outputs": [
    {
     "data": {
      "text/plain": [
       "N    182334\n",
       "Y      7005\n",
       "Name: HITPARKEDCAR, dtype: int64"
      ]
     },
     "execution_count": 63,
     "metadata": {},
     "output_type": "execute_result"
    }
   ],
   "source": [
    "df['HITPARKEDCAR'].value_counts(dropna=False) #  Whether or not the collision involved hitting a parked car. (Y/N)\n",
    "                                              #  Независимо от того, произошло ли столкновение с припаркованной машиной. (Да / Нет)\n",
    "                                              #  - Useful data "
   ]
  },
  {
   "cell_type": "code",
   "execution_count": 64,
   "metadata": {},
   "outputs": [
    {
     "data": {
      "text/plain": [
       "0    182334\n",
       "1      7005\n",
       "Name: HITPARKEDCAR, dtype: int64"
      ]
     },
     "execution_count": 64,
     "metadata": {},
     "output_type": "execute_result"
    }
   ],
   "source": [
    "df['HITPARKEDCAR'].replace(to_replace=\"N\", value=0, inplace=True)\n",
    "df['HITPARKEDCAR'].replace(to_replace=\"Y\", value=1, inplace=True) \n",
    "\n",
    "df[['HITPARKEDCAR']] = df[['HITPARKEDCAR']].astype(\"int\")\n",
    "\n",
    "df['HITPARKEDCAR'].value_counts(dropna=False)"
   ]
  },
  {
   "cell_type": "markdown",
   "metadata": {},
   "source": [
    "> 'SEVERITYCODE' - Useless data (duplicate data of our target)  \n",
    "> 'X' - Useful data  \n",
    "> 'Y' - Useful data  \n",
    "> 'OBJECTID' - Useless data  \n",
    "> 'INCKEY' - Useless data  \n",
    "> 'COLDETKEY' - Useless data  \n",
    "> 'REPORTNO' - Useless data  \n",
    "> 'STATUS' - Useful data  \n",
    "> 'ADDRTYPE' - Useful data  \n",
    "> 'INTKEY' - Useful data  \n",
    "> 'LOCATION' - - Useless data(we already have coordinates)  \n",
    "> 'EXCEPTRSNCODE' - Useless data  \n",
    "> 'EXCEPTRSNDESC' - Useless data   \n",
    "> 'SEVERITYCODE.1' - Useless data  \n",
    "> 'SEVERITYDESC' -  We can choose this feature as the target in our research  \n",
    "> 'COLLISIONTYPE' - Useful data  \n",
    "> 'PERSONCOUNT' - Useful data  \n",
    "> 'PEDCOUNT' - Useful data  \n",
    "> 'PEDCYLCOUNT' - Useful data  \n",
    "> 'VEHCOUNT' - Useful data  \n",
    "> 'INCDATE' - It's very interesting data, but I have to skip it for now.  \n",
    "> 'INCDTTM' - It's very interesting data, but I have to skip it for now.  \n",
    "> 'JUNCTIONTYPE' - Useful data  \n",
    "> 'SDOT_COLCODE' - Useful data  \n",
    "> 'SDOT_COLDESC' - Useless data (duplicate data of 'SDOT_COLCODE')  \n",
    "> 'INATTENTIONIND' - Useful data  \n",
    "> 'UNDERINFL' - Useful data  \n",
    "> 'WEATHER'  - Useful data  \n",
    "> 'ROADCOND' - Useful data  \n",
    "> 'LIGHTCOND' - Useful data  \n",
    "> 'PEDROWNOTGRNT' - Useful data  \n",
    "> 'SDOTCOLNUM' - Useless data  \n",
    "> 'SPEEDING' - Useful data  \n",
    "> 'ST_COLCODE' - Useful data  \n",
    "> 'ST_COLDESC' - Useless data (duplicate data of 'ST_COLCODE')  \n",
    "> 'SEGLANEKEY' - Useful data  \n",
    "> 'CROSSWALKKEY' - Useful data  \n",
    "> 'HITPARKEDCAR' - Useful data  "
   ]
  },
  {
   "cell_type": "markdown",
   "metadata": {},
   "source": [
    "## Container with useful features"
   ]
  },
  {
   "cell_type": "code",
   "execution_count": 65,
   "metadata": {},
   "outputs": [],
   "source": [
    "#['X', 'Y', 'STATUS',\n",
    "# 'ADDRTYPE', 'INTKEY',\n",
    "# 'SEVERITYDESC', 'COLLISIONTYPE', 'PERSONCOUNT',\n",
    "# 'PEDCOUNT', 'PEDCYLCOUNT', 'VEHCOUNT',\n",
    "# 'JUNCTIONTYPE', 'SDOT_COLCODE', 'INATTENTIONIND', \n",
    "# 'UNDERINFL', 'WEATHER', 'ROADCOND', 'LIGHTCOND',\n",
    "# 'PEDROWNOTGRNT', 'SPEEDING',\n",
    "# 'SEGLANEKEY', 'CROSSWALKKEY', 'HITPARKEDCAR']"
   ]
  },
  {
   "cell_type": "markdown",
   "metadata": {},
   "source": [
    "_______"
   ]
  },
  {
   "cell_type": "markdown",
   "metadata": {},
   "source": [
    " "
   ]
  },
  {
   "cell_type": "markdown",
   "metadata": {},
   "source": [
    "# Check Useful Features "
   ]
  },
  {
   "cell_type": "markdown",
   "metadata": {},
   "source": [
    "\n",
    "We need to determine the usefulness of each of the features.\n",
    "\n",
    "\n",
    "Next, we will take only those data that really matter. And apply it in the second part (2nd week) of the project.\n"
   ]
  },
  {
   "cell_type": "markdown",
   "metadata": {},
   "source": [
    "### Get Useful Data\n"
   ]
  },
  {
   "cell_type": "code",
   "execution_count": 66,
   "metadata": {},
   "outputs": [
    {
     "data": {
      "text/plain": [
       "Index(['SEVERITYCODE', 'X', 'Y', 'OBJECTID', 'INCKEY', 'COLDETKEY', 'REPORTNO',\n",
       "       'STATUS', 'ADDRTYPE', 'INTKEY', 'LOCATION', 'EXCEPTRSNCODE',\n",
       "       'EXCEPTRSNDESC', 'SEVERITYCODE.1', 'SEVERITYDESC', 'COLLISIONTYPE',\n",
       "       'PERSONCOUNT', 'PEDCOUNT', 'PEDCYLCOUNT', 'VEHCOUNT', 'INCDATE',\n",
       "       'INCDTTM', 'JUNCTIONTYPE', 'SDOT_COLCODE', 'SDOT_COLDESC',\n",
       "       'INATTENTIONIND', 'UNDERINFL', 'WEATHER', 'ROADCOND', 'LIGHTCOND',\n",
       "       'PEDROWNOTGRNT', 'SDOTCOLNUM', 'SPEEDING', 'ST_COLCODE', 'ST_COLDESC',\n",
       "       'SEGLANEKEY', 'CROSSWALKKEY', 'HITPARKEDCAR'],\n",
       "      dtype='object')"
      ]
     },
     "execution_count": 66,
     "metadata": {},
     "output_type": "execute_result"
    }
   ],
   "source": [
    "df.columns"
   ]
  },
  {
   "cell_type": "code",
   "execution_count": 67,
   "metadata": {},
   "outputs": [],
   "source": [
    "useful_df = df[['X', 'Y', 'STATUS',\n",
    "                'ADDRTYPE', 'INTKEY',\n",
    "                'SEVERITYDESC', 'COLLISIONTYPE', 'PERSONCOUNT',\n",
    "                'PEDCOUNT', 'PEDCYLCOUNT', 'VEHCOUNT',\n",
    "                'JUNCTIONTYPE', 'SDOT_COLCODE', 'INATTENTIONIND', \n",
    "                'UNDERINFL', 'WEATHER', 'ROADCOND', 'LIGHTCOND',\n",
    "                'PEDROWNOTGRNT', 'SPEEDING',\n",
    "                'SEGLANEKEY', 'CROSSWALKKEY', 'HITPARKEDCAR']]"
   ]
  },
  {
   "cell_type": "code",
   "execution_count": 68,
   "metadata": {},
   "outputs": [
    {
     "data": {
      "text/plain": [
       "Index(['X', 'Y', 'STATUS', 'ADDRTYPE', 'INTKEY', 'SEVERITYDESC',\n",
       "       'COLLISIONTYPE', 'PERSONCOUNT', 'PEDCOUNT', 'PEDCYLCOUNT', 'VEHCOUNT',\n",
       "       'JUNCTIONTYPE', 'SDOT_COLCODE', 'INATTENTIONIND', 'UNDERINFL',\n",
       "       'WEATHER', 'ROADCOND', 'LIGHTCOND', 'PEDROWNOTGRNT', 'SPEEDING',\n",
       "       'SEGLANEKEY', 'CROSSWALKKEY', 'HITPARKEDCAR'],\n",
       "      dtype='object')"
      ]
     },
     "execution_count": 68,
     "metadata": {},
     "output_type": "execute_result"
    }
   ],
   "source": [
    "useful_df.columns"
   ]
  },
  {
   "cell_type": "code",
   "execution_count": 69,
   "metadata": {
    "scrolled": true
   },
   "outputs": [
    {
     "data": {
      "text/plain": [
       "X                  float64\n",
       "Y                  float64\n",
       "STATUS               int64\n",
       "ADDRTYPE             int64\n",
       "INTKEY               int64\n",
       "SEVERITYDESC      category\n",
       "COLLISIONTYPE        int64\n",
       "PERSONCOUNT          int64\n",
       "PEDCOUNT             int64\n",
       "PEDCYLCOUNT          int64\n",
       "VEHCOUNT             int64\n",
       "JUNCTIONTYPE         int64\n",
       "SDOT_COLCODE         int64\n",
       "INATTENTIONIND       int64\n",
       "UNDERINFL            int64\n",
       "WEATHER              int64\n",
       "ROADCOND             int64\n",
       "LIGHTCOND            int64\n",
       "PEDROWNOTGRNT        int64\n",
       "SPEEDING             int64\n",
       "SEGLANEKEY           int64\n",
       "CROSSWALKKEY         int64\n",
       "HITPARKEDCAR         int64\n",
       "dtype: object"
      ]
     },
     "execution_count": 69,
     "metadata": {},
     "output_type": "execute_result"
    }
   ],
   "source": [
    "useful_df.dtypes"
   ]
  },
  {
   "cell_type": "markdown",
   "metadata": {},
   "source": [
    "Using <b>useful_df</b> we declare the following variables: <br>\n",
    "\n",
    "<ul>\n",
    "    <li> <b> X </b> as the <b> Feature Matrix </b> (data of useful_df without 'SEVERITYDESC') </li>\n",
    "    <li> <b> y </b> as the <b> response vector (target = 'SEVERITYDESC') </b> </li>\n",
    "</ul>"
   ]
  },
  {
   "cell_type": "code",
   "execution_count": 70,
   "metadata": {},
   "outputs": [
    {
     "data": {
      "text/html": [
       "<div>\n",
       "<style scoped>\n",
       "    .dataframe tbody tr th:only-of-type {\n",
       "        vertical-align: middle;\n",
       "    }\n",
       "\n",
       "    .dataframe tbody tr th {\n",
       "        vertical-align: top;\n",
       "    }\n",
       "\n",
       "    .dataframe thead th {\n",
       "        text-align: right;\n",
       "    }\n",
       "</style>\n",
       "<table border=\"1\" class=\"dataframe\">\n",
       "  <thead>\n",
       "    <tr style=\"text-align: right;\">\n",
       "      <th></th>\n",
       "      <th>X</th>\n",
       "      <th>Y</th>\n",
       "      <th>STATUS</th>\n",
       "      <th>ADDRTYPE</th>\n",
       "      <th>INTKEY</th>\n",
       "      <th>COLLISIONTYPE</th>\n",
       "      <th>PERSONCOUNT</th>\n",
       "      <th>PEDCOUNT</th>\n",
       "      <th>PEDCYLCOUNT</th>\n",
       "      <th>VEHCOUNT</th>\n",
       "      <th>...</th>\n",
       "      <th>INATTENTIONIND</th>\n",
       "      <th>UNDERINFL</th>\n",
       "      <th>WEATHER</th>\n",
       "      <th>ROADCOND</th>\n",
       "      <th>LIGHTCOND</th>\n",
       "      <th>PEDROWNOTGRNT</th>\n",
       "      <th>SPEEDING</th>\n",
       "      <th>SEGLANEKEY</th>\n",
       "      <th>CROSSWALKKEY</th>\n",
       "      <th>HITPARKEDCAR</th>\n",
       "    </tr>\n",
       "  </thead>\n",
       "  <tbody>\n",
       "    <tr>\n",
       "      <th>0</th>\n",
       "      <td>-122.323148</td>\n",
       "      <td>47.703140</td>\n",
       "      <td>1</td>\n",
       "      <td>1</td>\n",
       "      <td>37475</td>\n",
       "      <td>1</td>\n",
       "      <td>2</td>\n",
       "      <td>0</td>\n",
       "      <td>0</td>\n",
       "      <td>2</td>\n",
       "      <td>...</td>\n",
       "      <td>0</td>\n",
       "      <td>3</td>\n",
       "      <td>2</td>\n",
       "      <td>1</td>\n",
       "      <td>0</td>\n",
       "      <td>0</td>\n",
       "      <td>0</td>\n",
       "      <td>0</td>\n",
       "      <td>0</td>\n",
       "      <td>0</td>\n",
       "    </tr>\n",
       "    <tr>\n",
       "      <th>1</th>\n",
       "      <td>-122.347294</td>\n",
       "      <td>47.647172</td>\n",
       "      <td>1</td>\n",
       "      <td>0</td>\n",
       "      <td>0</td>\n",
       "      <td>4</td>\n",
       "      <td>2</td>\n",
       "      <td>0</td>\n",
       "      <td>0</td>\n",
       "      <td>2</td>\n",
       "      <td>...</td>\n",
       "      <td>0</td>\n",
       "      <td>0</td>\n",
       "      <td>1</td>\n",
       "      <td>1</td>\n",
       "      <td>1</td>\n",
       "      <td>0</td>\n",
       "      <td>0</td>\n",
       "      <td>0</td>\n",
       "      <td>0</td>\n",
       "      <td>0</td>\n",
       "    </tr>\n",
       "  </tbody>\n",
       "</table>\n",
       "<p>2 rows × 22 columns</p>\n",
       "</div>"
      ],
      "text/plain": [
       "            X          Y  STATUS  ADDRTYPE  INTKEY  COLLISIONTYPE  \\\n",
       "0 -122.323148  47.703140       1         1   37475              1   \n",
       "1 -122.347294  47.647172       1         0       0              4   \n",
       "\n",
       "   PERSONCOUNT  PEDCOUNT  PEDCYLCOUNT  VEHCOUNT  ...  INATTENTIONIND  \\\n",
       "0            2         0            0         2  ...               0   \n",
       "1            2         0            0         2  ...               0   \n",
       "\n",
       "   UNDERINFL  WEATHER  ROADCOND  LIGHTCOND  PEDROWNOTGRNT  SPEEDING  \\\n",
       "0          3        2         1          0              0         0   \n",
       "1          0        1         1          1              0         0   \n",
       "\n",
       "   SEGLANEKEY  CROSSWALKKEY  HITPARKEDCAR  \n",
       "0           0             0             0  \n",
       "1           0             0             0  \n",
       "\n",
       "[2 rows x 22 columns]"
      ]
     },
     "execution_count": 70,
     "metadata": {},
     "output_type": "execute_result"
    }
   ],
   "source": [
    "X = df[['X', 'Y', 'STATUS',\n",
    "        'ADDRTYPE', 'INTKEY',\n",
    "        'COLLISIONTYPE', 'PERSONCOUNT',\n",
    "        'PEDCOUNT', 'PEDCYLCOUNT', 'VEHCOUNT',\n",
    "        'JUNCTIONTYPE', 'SDOT_COLCODE', 'INATTENTIONIND', \n",
    "        'UNDERINFL', 'WEATHER', 'ROADCOND', 'LIGHTCOND',\n",
    "        'PEDROWNOTGRNT', 'SPEEDING',\n",
    "        'SEGLANEKEY', 'CROSSWALKKEY', 'HITPARKEDCAR']]\n",
    "\n",
    "X[0:2]"
   ]
  },
  {
   "cell_type": "markdown",
   "metadata": {},
   "source": [
    "Now we can fill the target variable."
   ]
  },
  {
   "cell_type": "code",
   "execution_count": 71,
   "metadata": {},
   "outputs": [
    {
     "data": {
      "text/plain": [
       "0                  Injury Collision\n",
       "1    Property Damage Only Collision\n",
       "Name: SEVERITYDESC, dtype: category\n",
       "Categories (2, object): [Injury Collision, Property Damage Only Collision]"
      ]
     },
     "execution_count": 71,
     "metadata": {},
     "output_type": "execute_result"
    }
   ],
   "source": [
    "y = useful_df['SEVERITYDESC']\n",
    "y[0:2]"
   ]
  },
  {
   "cell_type": "markdown",
   "metadata": {},
   "source": [
    "## Setting Up the Decision Tree\n",
    "    \n",
    "We will be using <b>train/test split</b> on our <b>decision tree</b>. Let's import <b>train_test_split</b> from <b>sklearn.cross_validation</b>.\n",
    "\n",
    "\n"
   ]
  },
  {
   "cell_type": "code",
   "execution_count": 72,
   "metadata": {},
   "outputs": [],
   "source": [
    "from sklearn.model_selection import train_test_split"
   ]
  },
  {
   "cell_type": "markdown",
   "metadata": {},
   "source": [
    "Now <b> train_test_split </b> will return 4 different parameters. We will name them:<br>\n",
    "X_trainset, X_testset, y_trainset, y_testset <br> <br>\n",
    "The <b> train_test_split </b> will need the parameters: <br>\n",
    "X, y, test_size=0.3, and random_state=3. <br> <br>\n",
    "The <b>X</b> and <b>y</b> are the arrays required before the split, the <b>test_size</b> represents the ratio of the testing dataset, and the <b>random_state</b> ensures that we obtain the same splits.\n",
    "\n"
   ]
  },
  {
   "cell_type": "code",
   "execution_count": 73,
   "metadata": {},
   "outputs": [],
   "source": [
    "X_trainset, X_testset, y_trainset, y_testset = train_test_split(X, y, test_size=0.1, random_state=3)"
   ]
  },
  {
   "cell_type": "markdown",
   "metadata": {},
   "source": [
    "## Check"
   ]
  },
  {
   "cell_type": "code",
   "execution_count": 74,
   "metadata": {},
   "outputs": [
    {
     "data": {
      "text/plain": [
       "(170405, 22)"
      ]
     },
     "execution_count": 74,
     "metadata": {},
     "output_type": "execute_result"
    }
   ],
   "source": [
    "X_trainset.shape"
   ]
  },
  {
   "cell_type": "code",
   "execution_count": 75,
   "metadata": {},
   "outputs": [
    {
     "data": {
      "text/plain": [
       "(170405,)"
      ]
     },
     "execution_count": 75,
     "metadata": {},
     "output_type": "execute_result"
    }
   ],
   "source": [
    "y_trainset.shape"
   ]
  },
  {
   "cell_type": "code",
   "execution_count": 76,
   "metadata": {},
   "outputs": [
    {
     "data": {
      "text/plain": [
       "(18934, 22)"
      ]
     },
     "execution_count": 76,
     "metadata": {},
     "output_type": "execute_result"
    }
   ],
   "source": [
    "X_testset.shape"
   ]
  },
  {
   "cell_type": "code",
   "execution_count": 77,
   "metadata": {},
   "outputs": [
    {
     "data": {
      "text/plain": [
       "(18934,)"
      ]
     },
     "execution_count": 77,
     "metadata": {},
     "output_type": "execute_result"
    }
   ],
   "source": [
    "y_testset.shape"
   ]
  },
  {
   "cell_type": "markdown",
   "metadata": {},
   "source": [
    "## Test Modeling for Understanding of Importance of Features\n",
    "We will first create an instance of the <b>DecisionTreeClassifier</b> called <b>injuryTree</b>.<br>\n",
    "\n",
    "\n"
   ]
  },
  {
   "cell_type": "code",
   "execution_count": 78,
   "metadata": {},
   "outputs": [
    {
     "data": {
      "text/plain": [
       "DecisionTreeClassifier(criterion='entropy')"
      ]
     },
     "execution_count": 78,
     "metadata": {},
     "output_type": "execute_result"
    }
   ],
   "source": [
    "from sklearn.tree import DecisionTreeClassifier\n",
    "injuryTree = DecisionTreeClassifier(criterion=\"entropy\")\n",
    "injuryTree"
   ]
  },
  {
   "cell_type": "markdown",
   "metadata": {},
   "source": [
    "Next, we will fit the data with the training feature matrix X_trainset and training response vector y_trainset"
   ]
  },
  {
   "cell_type": "code",
   "execution_count": 79,
   "metadata": {},
   "outputs": [
    {
     "data": {
      "text/plain": [
       "DecisionTreeClassifier(criterion='entropy')"
      ]
     },
     "execution_count": 79,
     "metadata": {},
     "output_type": "execute_result"
    }
   ],
   "source": [
    "injuryTree.fit(X_trainset,y_trainset)"
   ]
  },
  {
   "cell_type": "markdown",
   "metadata": {},
   "source": [
    "## Prediction\n",
    "Let's make some <b>predictions</b> on the testing dataset and store it into a variable called <b>predTree</b>.\n",
    "\n",
    "\n"
   ]
  },
  {
   "cell_type": "code",
   "execution_count": 80,
   "metadata": {},
   "outputs": [],
   "source": [
    "predTree = injuryTree.predict(X_testset)"
   ]
  },
  {
   "cell_type": "markdown",
   "metadata": {},
   "source": [
    "We can print out <b>predTree</b> and <b>y_testset</b> if we want to visually compare the prediction to the actual values.\n",
    "\n"
   ]
  },
  {
   "cell_type": "code",
   "execution_count": 81,
   "metadata": {},
   "outputs": [
    {
     "name": "stdout",
     "output_type": "stream",
     "text": [
      "['Property Damage Only Collision' 'Injury Collision'\n",
      " 'Property Damage Only Collision' 'Property Damage Only Collision'\n",
      " 'Property Damage Only Collision']\n",
      "28113     Property Damage Only Collision\n",
      "88403                   Injury Collision\n",
      "54310     Property Damage Only Collision\n",
      "178131    Property Damage Only Collision\n",
      "1054                    Injury Collision\n",
      "Name: SEVERITYDESC, dtype: category\n",
      "Categories (2, object): [Injury Collision, Property Damage Only Collision]\n"
     ]
    }
   ],
   "source": [
    "print (predTree [0:5])\n",
    "print (y_testset [0:5])"
   ]
  },
  {
   "cell_type": "markdown",
   "metadata": {},
   "source": [
    "## Evaluation\n",
    "Next, let's check the accuracy of our model.\n",
    "\n",
    "\n"
   ]
  },
  {
   "cell_type": "code",
   "execution_count": 82,
   "metadata": {},
   "outputs": [
    {
     "name": "stdout",
     "output_type": "stream",
     "text": [
      "DecisionTrees's Accuracy:  0.6851695362839336\n"
     ]
    }
   ],
   "source": [
    "from sklearn import metrics\n",
    "print(\"DecisionTrees's Accuracy: \", metrics.accuracy_score(y_testset, predTree))"
   ]
  },
  {
   "cell_type": "markdown",
   "metadata": {},
   "source": [
    "**Accuracy classification score** computes subset accuracy: the set of labels predicted for a sample must exactly match the corresponding set of labels in y_true.  \n",
    "\n",
    "In multilabel classification, the function returns the subset accuracy. If the entire set of predicted labels for a sample strictly match with the true set of labels, then the subset accuracy is 1.0; otherwise it is 0.0.\n",
    "\n"
   ]
  },
  {
   "cell_type": "markdown",
   "metadata": {},
   "source": [
    "## Importance of Features"
   ]
  },
  {
   "cell_type": "markdown",
   "metadata": {},
   "source": [
    "Let's analyze the importance of features."
   ]
  },
  {
   "cell_type": "code",
   "execution_count": 83,
   "metadata": {},
   "outputs": [
    {
     "name": "stdout",
     "output_type": "stream",
     "text": [
      "X 0.2166596907153147\n",
      "\n",
      "Y 0.21515196961572874\n",
      "\n",
      "STATUS 0.19670472424092067\n",
      "\n",
      "ADDRTYPE 0.06906962769319182\n",
      "\n",
      "INTKEY 0.048370878625452904\n",
      "\n",
      "COLLISIONTYPE 0.04469369412640103\n",
      "\n",
      "PERSONCOUNT 0.04259465203017665\n",
      "\n",
      "PEDCOUNT 0.03806391372303209\n",
      "\n",
      "PEDCYLCOUNT 0.02782818879104894\n",
      "\n",
      "VEHCOUNT 0.02580783004830608\n",
      "\n",
      "JUNCTIONTYPE 0.025116353370689508\n",
      "\n",
      "SDOT_COLCODE 0.019020280391256906\n",
      "\n",
      "INATTENTIONIND 0.010543532526662399\n",
      "\n",
      "UNDERINFL 0.00772808196500919\n",
      "\n",
      "WEATHER 0.0038006505391659463\n",
      "\n",
      "ROADCOND 0.0021627536523197988\n",
      "\n",
      "LIGHTCOND 0.0020278028158244566\n",
      "\n",
      "PEDROWNOTGRNT 0.0018885748324416367\n",
      "\n",
      "SPEEDING 0.0017468010100824133\n",
      "\n",
      "SEGLANEKEY 0.0006786240946898147\n",
      "\n",
      "CROSSWALKKEY 0.0001897092518362214\n",
      "\n",
      "HITPARKEDCAR 0.00015166594044805176\n",
      "\n"
     ]
    }
   ],
   "source": [
    "np.set_printoptions(suppress=True)\n",
    "\n",
    "importance = pd.Series(injuryTree.feature_importances_, index=X.columns)\n",
    "\n",
    "sorted_importance = importance.sort_values(ascending=False)\n",
    "\n",
    "for name, value in zip(X.columns, sorted_importance):\n",
    "    print(name, value)\n",
    "    print('')"
   ]
  },
  {
   "cell_type": "markdown",
   "metadata": {},
   "source": [
    "## Save Useful DataFrame"
   ]
  },
  {
   "cell_type": "markdown",
   "metadata": {},
   "source": [
    "We can save <b>useful_df</b> to <b>useful_df_car_accident_severity.csv</b> for 2nd Week Capstone Project."
   ]
  },
  {
   "cell_type": "code",
   "execution_count": 84,
   "metadata": {},
   "outputs": [],
   "source": [
    "import os\n",
    "path = os.path.expanduser(\"~/Documents/useful_df_car_accident_severity.csv\")\n",
    "useful_df.to_csv (path)"
   ]
  },
  {
   "cell_type": "markdown",
   "metadata": {},
   "source": [
    " "
   ]
  },
  {
   "cell_type": "markdown",
   "metadata": {},
   "source": [
    " "
   ]
  },
  {
   "cell_type": "markdown",
   "metadata": {},
   "source": [
    "# Thanks for attention"
   ]
  },
  {
   "cell_type": "markdown",
   "metadata": {},
   "source": [
    " "
   ]
  },
  {
   "cell_type": "markdown",
   "metadata": {},
   "source": [
    " "
   ]
  }
 ],
 "metadata": {
  "kernelspec": {
   "display_name": "Python 3",
   "language": "python",
   "name": "python3"
  },
  "language_info": {
   "codemirror_mode": {
    "name": "ipython",
    "version": 3
   },
   "file_extension": ".py",
   "mimetype": "text/x-python",
   "name": "python",
   "nbconvert_exporter": "python",
   "pygments_lexer": "ipython3",
   "version": "3.8.3"
  }
 },
 "nbformat": 4,
 "nbformat_minor": 1
}

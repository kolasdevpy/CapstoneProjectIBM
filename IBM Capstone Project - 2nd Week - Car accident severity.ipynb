{
 "cells": [
  {
   "cell_type": "markdown",
   "metadata": {},
   "source": [
    "# IBM Capstone Project - 2nd Week - Car accident severity"
   ]
  },
  {
   "cell_type": "markdown",
   "metadata": {},
   "source": [
    " "
   ]
  },
  {
   "cell_type": "markdown",
   "metadata": {},
   "source": [
    "# The 2nd Week"
   ]
  },
  {
   "cell_type": "markdown",
   "metadata": {},
   "source": [
    "___"
   ]
  },
  {
   "cell_type": "markdown",
   "metadata": {},
   "source": [
    "### Link to [the 1st Week](https://github.com/kolasdevpy/CapstoneProjectIBM/blob/master/Capstone%20Project%20%20-%201st%20Week%20-%20Car%20accident%20severity.ipynb) work"
   ]
  },
  {
   "cell_type": "markdown",
   "metadata": {},
   "source": [
    "___"
   ]
  },
  {
   "cell_type": "markdown",
   "metadata": {},
   "source": [
    "## Tasks"
   ]
  },
  {
   "cell_type": "markdown",
   "metadata": {},
   "source": [
    "In this week, you will continue working on your capstone project. Please remember by the end of this week, you will need to submit the following:\n",
    "\n",
    "<b>1)A full report consisting of all of the following components (15 marks):</b>\n",
    "\n",
    "- <b>Introduction</b> where you discuss the business problem and who would be interested in this project. <b>(Done in [the 1st Week](https://github.com/kolasdevpy/CapstoneProjectIBM/blob/master/Capstone%20Project%20%20-%201st%20Week%20-%20Car%20accident%20severity.ipynb) work).</b>   \n",
    "\n",
    "- Data where you <b>describe the data</b> that will be used to solve the problem and the source of the data. <b>(Done in [the 1st Week](https://github.com/kolasdevpy/CapstoneProjectIBM/blob/master/Capstone%20Project%20%20-%201st%20Week%20-%20Car%20accident%20severity.ipynb) work).</b>   \n",
    "\n",
    "- <b>Methodology section which represents the main component of the report where you discuss and describe any exploratory data analysis</b> that you did, any inferential statistical testing that you performed, if any, and what machine learnings were used and why.  <b>The 2nd Week.</b>    \n",
    "\n",
    "- <b>Results</b> section where you discuss the results. <b>The 2nd Week.</b>   \n",
    "\n",
    "- <b>Discussion</b> section where you discuss any observations you noted and any recommendations you can make based on the results. <b>The 2nd Week.</b>   \n",
    "\n",
    "- <b>Conclusion</b> section where you conclude the report. <b>The 2nd Week.</b>   \n",
    "   \n",
    "   \n",
    "<b>2) A link to your <b>Notebook on your Github</b> repository pushed showing your code. (15 marks)</b> <b>The 2nd Week.</b>\n",
    "\n",
    "<b>3) Your choice of a <b>presentation</b> or <b>blogpost</b>. (10 marks)</b> <b>The 2nd Week.</b>\n"
   ]
  },
  {
   "cell_type": "markdown",
   "metadata": {},
   "source": [
    "___"
   ]
  },
  {
   "cell_type": "markdown",
   "metadata": {},
   "source": [
    " "
   ]
  },
  {
   "cell_type": "markdown",
   "metadata": {},
   "source": [
    "# Remember the introduction"
   ]
  },
  {
   "cell_type": "markdown",
   "metadata": {},
   "source": [
    "This data allows us to build a model for predicting whether a car crashes participants (car drivers or pedestrians) require increased amount of medical care or not. The data covers Seatle, WA. The primary focus of the model is to prioritize help for different points of the city for better balance of injury and help amount. The more injury - more help.\n",
    "\n",
    "For example, the Seattle Police department has limited number of helicopters for the medical purposes and prosecution of criminals. In case of simultaneously happening crashes, the model could possibly help to choose the way of dealing with the problems, predicting the amount of damage in all cases.\n"
   ]
  },
  {
   "cell_type": "markdown",
   "metadata": {},
   "source": [
    " "
   ]
  },
  {
   "cell_type": "markdown",
   "metadata": {},
   "source": [
    "# Reading data"
   ]
  },
  {
   "cell_type": "markdown",
   "metadata": {},
   "source": [
    "We made a complete description, pre-processing and evaluation of the data in [the 1st week of the project](https://github.com/kolasdevpy/CapstoneProjectIBM/blob/master/Capstone%20Project%20%20-%201st%20Week%20-%20Car%20accident%20severity.ipynb)."
   ]
  },
  {
   "cell_type": "code",
   "execution_count": 1,
   "metadata": {},
   "outputs": [
    {
     "data": {
      "text/html": [
       "<div>\n",
       "<style scoped>\n",
       "    .dataframe tbody tr th:only-of-type {\n",
       "        vertical-align: middle;\n",
       "    }\n",
       "\n",
       "    .dataframe tbody tr th {\n",
       "        vertical-align: top;\n",
       "    }\n",
       "\n",
       "    .dataframe thead th {\n",
       "        text-align: right;\n",
       "    }\n",
       "</style>\n",
       "<table border=\"1\" class=\"dataframe\">\n",
       "  <thead>\n",
       "    <tr style=\"text-align: right;\">\n",
       "      <th></th>\n",
       "      <th>Unnamed: 0</th>\n",
       "      <th>X</th>\n",
       "      <th>Y</th>\n",
       "      <th>ADDRTYPE</th>\n",
       "      <th>INTKEY</th>\n",
       "      <th>SEVERITYCODE</th>\n",
       "      <th>COLLISIONTYPE</th>\n",
       "      <th>PERSONCOUNT</th>\n",
       "      <th>PEDCOUNT</th>\n",
       "      <th>PEDCYLCOUNT</th>\n",
       "      <th>...</th>\n",
       "      <th>SPEEDING</th>\n",
       "      <th>SEGLANEKEY</th>\n",
       "      <th>CROSSWALKKEY</th>\n",
       "      <th>HITPARKEDCAR</th>\n",
       "      <th>year</th>\n",
       "      <th>month</th>\n",
       "      <th>day</th>\n",
       "      <th>hour</th>\n",
       "      <th>minute</th>\n",
       "      <th>weekday_name</th>\n",
       "    </tr>\n",
       "  </thead>\n",
       "  <tbody>\n",
       "    <tr>\n",
       "      <th>0</th>\n",
       "      <td>0</td>\n",
       "      <td>-122.323148</td>\n",
       "      <td>47.703140</td>\n",
       "      <td>1</td>\n",
       "      <td>37475</td>\n",
       "      <td>2</td>\n",
       "      <td>1</td>\n",
       "      <td>2</td>\n",
       "      <td>0</td>\n",
       "      <td>0</td>\n",
       "      <td>...</td>\n",
       "      <td>0</td>\n",
       "      <td>0</td>\n",
       "      <td>0</td>\n",
       "      <td>0</td>\n",
       "      <td>2013</td>\n",
       "      <td>3</td>\n",
       "      <td>27</td>\n",
       "      <td>14</td>\n",
       "      <td>54</td>\n",
       "      <td>2</td>\n",
       "    </tr>\n",
       "    <tr>\n",
       "      <th>1</th>\n",
       "      <td>1</td>\n",
       "      <td>-122.347294</td>\n",
       "      <td>47.647172</td>\n",
       "      <td>0</td>\n",
       "      <td>0</td>\n",
       "      <td>1</td>\n",
       "      <td>4</td>\n",
       "      <td>2</td>\n",
       "      <td>0</td>\n",
       "      <td>0</td>\n",
       "      <td>...</td>\n",
       "      <td>0</td>\n",
       "      <td>0</td>\n",
       "      <td>0</td>\n",
       "      <td>0</td>\n",
       "      <td>2006</td>\n",
       "      <td>12</td>\n",
       "      <td>20</td>\n",
       "      <td>18</td>\n",
       "      <td>55</td>\n",
       "      <td>2</td>\n",
       "    </tr>\n",
       "  </tbody>\n",
       "</table>\n",
       "<p>2 rows × 29 columns</p>\n",
       "</div>"
      ],
      "text/plain": [
       "   Unnamed: 0           X          Y  ADDRTYPE  INTKEY  SEVERITYCODE  \\\n",
       "0           0 -122.323148  47.703140         1   37475             2   \n",
       "1           1 -122.347294  47.647172         0       0             1   \n",
       "\n",
       "   COLLISIONTYPE  PERSONCOUNT  PEDCOUNT  PEDCYLCOUNT  ...  SPEEDING  \\\n",
       "0              1            2         0            0  ...         0   \n",
       "1              4            2         0            0  ...         0   \n",
       "\n",
       "   SEGLANEKEY  CROSSWALKKEY  HITPARKEDCAR  year  month  day  hour  minute  \\\n",
       "0           0             0             0  2013      3   27    14      54   \n",
       "1           0             0             0  2006     12   20    18      55   \n",
       "\n",
       "   weekday_name  \n",
       "0             2  \n",
       "1             2  \n",
       "\n",
       "[2 rows x 29 columns]"
      ]
     },
     "execution_count": 1,
     "metadata": {},
     "output_type": "execute_result"
    }
   ],
   "source": [
    "import pandas as pd\n",
    "import numpy as np\n",
    "\n",
    "import os\n",
    "path = os.path.expanduser(\"~/Documents/useful_df_car_accident_severity.csv\")\n",
    "df = pd.read_csv (path)\n",
    "\n",
    "df.head(2)"
   ]
  },
  {
   "cell_type": "code",
   "execution_count": 2,
   "metadata": {},
   "outputs": [
    {
     "data": {
      "text/plain": [
       "Unnamed: 0          int64\n",
       "X                 float64\n",
       "Y                 float64\n",
       "ADDRTYPE            int64\n",
       "INTKEY              int64\n",
       "SEVERITYCODE        int64\n",
       "COLLISIONTYPE       int64\n",
       "PERSONCOUNT         int64\n",
       "PEDCOUNT            int64\n",
       "PEDCYLCOUNT         int64\n",
       "VEHCOUNT            int64\n",
       "JUNCTIONTYPE        int64\n",
       "SDOT_COLCODE        int64\n",
       "INATTENTIONIND      int64\n",
       "UNDERINFL           int64\n",
       "WEATHER             int64\n",
       "ROADCOND            int64\n",
       "LIGHTCOND           int64\n",
       "PEDROWNOTGRNT       int64\n",
       "SPEEDING            int64\n",
       "SEGLANEKEY          int64\n",
       "CROSSWALKKEY        int64\n",
       "HITPARKEDCAR        int64\n",
       "year                int64\n",
       "month               int64\n",
       "day                 int64\n",
       "hour                int64\n",
       "minute              int64\n",
       "weekday_name        int64\n",
       "dtype: object"
      ]
     },
     "execution_count": 2,
     "metadata": {},
     "output_type": "execute_result"
    }
   ],
   "source": [
    "df.dtypes"
   ]
  },
  {
   "cell_type": "code",
   "execution_count": 3,
   "metadata": {},
   "outputs": [
    {
     "data": {
      "text/plain": [
       "(189339, 29)"
      ]
     },
     "execution_count": 3,
     "metadata": {},
     "output_type": "execute_result"
    }
   ],
   "source": [
    "df.shape"
   ]
  },
  {
   "cell_type": "code",
   "execution_count": 4,
   "metadata": {},
   "outputs": [],
   "source": [
    "X = df[['X', 'Y',\n",
    "        'ADDRTYPE', 'INTKEY',\n",
    "        'COLLISIONTYPE', 'PERSONCOUNT',\n",
    "        'PEDCOUNT', 'PEDCYLCOUNT', 'VEHCOUNT',\n",
    "        'JUNCTIONTYPE', 'SDOT_COLCODE', 'INATTENTIONIND', \n",
    "        'UNDERINFL', 'WEATHER', 'ROADCOND', 'LIGHTCOND',\n",
    "        'PEDROWNOTGRNT', 'SPEEDING',\n",
    "        'SEGLANEKEY', 'CROSSWALKKEY', 'HITPARKEDCAR',\n",
    "        'year', 'month', 'day', 'hour', 'minute', 'weekday_name']]\n",
    "\n",
    "y = df['SEVERITYCODE']"
   ]
  },
  {
   "cell_type": "markdown",
   "metadata": {},
   "source": [
    " "
   ]
  },
  {
   "cell_type": "markdown",
   "metadata": {},
   "source": [
    "# Methodology section"
   ]
  },
  {
   "cell_type": "markdown",
   "metadata": {},
   "source": [
    "### To do this, we need to build a model that can determine the need for a medical helicopter in an accident. It's a Discrete value.\n",
    "\n",
    "### Therefore we have a Classification problem."
   ]
  },
  {
   "cell_type": "markdown",
   "metadata": {},
   "source": [
    "### Now we will try to understand what data we can get as quickly as possible or automatically from services, soft or witness. Next, we group their by sources."
   ]
  },
  {
   "cell_type": "markdown",
   "metadata": {},
   "source": [
    "> 'SEVERITYCODE' - target\n",
    "   \n",
    "   \n",
    "> <b>1. Police get data from witness</b>   \n",
    "> 'X'     \n",
    "> 'Y'    \n",
    "> 'COLLISIONTYPE'    \n",
    "> 'PERSONCOUNT'    \n",
    "> 'PEDCOUNT'    \n",
    "> 'PEDCYLCOUNT'    \n",
    "> 'VEHCOUNT'    \n",
    "> 'ADDRTYPE'    \n",
    "> 'HITPARKEDCAR'    \n",
    "\n",
    "\n",
    "> <b>2. Police can get data automatically by post-processing coordinates 'X' and 'Y'</b>   \n",
    "> 'INTKEY'    \n",
    "> 'JUNCTIONTYPE'    \n",
    "> 'SEGLANEKEY'    \n",
    "> 'CROSSWALKKEY'    \n",
    "\n",
    "> <b>3. Police can get data automatically by services</b>   \n",
    "> 'WEATHER'    \n",
    "> 'ROADCOND'    \n",
    "> 'LIGHTCOND'  \n",
    "> 'year'    \n",
    "> 'month'    \n",
    "> 'day'    \n",
    "> 'hour'    \n",
    "> 'minute'    \n",
    "> 'weekday_name'    \n",
    "\n",
    "> <b>4. Police can get data automatically by post-processing</b>   \n",
    "> 'SDOT_COLCODE'   \n",
    "> 'INATTENTIONIND'    \n",
    "> 'UNDERINFL'   \n",
    "> 'PEDROWNOTGRNT'\n",
    "> 'SPEEDING'\n"
   ]
  },
  {
   "cell_type": "markdown",
   "metadata": {},
   "source": [
    "### Obviously, that the information in Section 4 may be collected for a long time after the accident. Which makes us to understand  it is not relevant information, so we should drop these features."
   ]
  },
  {
   "cell_type": "markdown",
   "metadata": {},
   "source": [
    "> 'SEVERITYCODE' - target\n",
    "   \n",
    "   \n",
    "> <b>1. Police get data from witness</b>   \n",
    "> 'X'     \n",
    "> 'Y'    \n",
    "> 'COLLISIONTYPE'    \n",
    "> 'PERSONCOUNT'    \n",
    "> 'PEDCOUNT'    \n",
    "> 'PEDCYLCOUNT'    \n",
    "> 'VEHCOUNT'    \n",
    "> 'ADDRTYPE'    \n",
    "> 'HITPARKEDCAR'    \n",
    "\n",
    "\n",
    "> <b>2. Police can get data automatically by post-processing coordinates 'X' and 'Y'</b>   \n",
    "> 'INTKEY'    \n",
    "> 'JUNCTIONTYPE'    \n",
    "> 'SEGLANEKEY'    \n",
    "> 'CROSSWALKKEY'    \n",
    "\n",
    "> <b>3. Police can get data automatically by services</b>   \n",
    "> 'WEATHER'    \n",
    "> 'ROADCOND'    \n",
    "> 'LIGHTCOND'  \n",
    "> 'year'    \n",
    "> 'month'    \n",
    "> 'day'    \n",
    "> 'hour'    \n",
    "> 'minute'    \n",
    "> 'weekday_name'"
   ]
  },
  {
   "cell_type": "markdown",
   "metadata": {},
   "source": [
    "### Modeling and Evaluations"
   ]
  },
  {
   "cell_type": "markdown",
   "metadata": {},
   "source": [
    "#### DecisionTreeClassifier"
   ]
  },
  {
   "cell_type": "code",
   "execution_count": 5,
   "metadata": {},
   "outputs": [
    {
     "name": "stdout",
     "output_type": "stream",
     "text": [
      "DecisionTrees's Accuracy:\n",
      "0.6837963451991127\n"
     ]
    }
   ],
   "source": [
    "from sklearn.model_selection import train_test_split\n",
    "from sklearn.tree import DecisionTreeClassifier\n",
    "from sklearn import metrics\n",
    "\n",
    "X =  df[['X', 'Y', 'COLLISIONTYPE', 'PERSONCOUNT', 'PEDCOUNT', 'PEDCYLCOUNT', 'VEHCOUNT', 'ADDRTYPE', 'HITPARKEDCAR', # 1 Section\n",
    "         'INTKEY', 'JUNCTIONTYPE', 'SEGLANEKEY', 'CROSSWALKKEY',                                                      # 2 Section\n",
    "         'WEATHER', 'ROADCOND', 'LIGHTCOND', 'year', 'month', 'day', 'hour', 'minute', 'weekday_name']]               # 3 Section\n",
    "\n",
    "y = df['SEVERITYCODE']\n",
    "\n",
    "X_trainset, X_testset, y_trainset, y_testset = train_test_split(X, y, test_size=0.1, random_state=3)\n",
    "Tree = DecisionTreeClassifier(criterion=\"entropy\")\n",
    "Tree.fit(X_trainset,y_trainset)            \n",
    "predTree = Tree.predict(X_testset)\n",
    "accuracy = metrics.accuracy_score(y_testset, predTree)\n",
    "\n",
    "\n",
    "\n",
    "print(f\"DecisionTrees's Accuracy:\")\n",
    "print(f\"{accuracy}\")"
   ]
  },
  {
   "cell_type": "markdown",
   "metadata": {},
   "source": [
    " "
   ]
  },
  {
   "cell_type": "markdown",
   "metadata": {},
   "source": [
    "#### LGBMClassifier"
   ]
  },
  {
   "cell_type": "code",
   "execution_count": 6,
   "metadata": {},
   "outputs": [
    {
     "name": "stderr",
     "output_type": "stream",
     "text": [
      "/Users/artyomkolas/opt/anaconda3/envs/ibm/lib/python3.8/site-packages/lightgbm/__init__.py:42: UserWarning: Starting from version 2.2.1, the library file in distribution wheels for macOS is built by the Apple Clang (Xcode_8.3.3) compiler.\n",
      "This means that in case of installing LightGBM from PyPI via the ``pip install lightgbm`` command, you don't need to install the gcc compiler anymore.\n",
      "Instead of that, you need to install the OpenMP library, which is required for running LightGBM on the system with the Apple Clang compiler.\n",
      "You can install the OpenMP library by the following command: ``brew install libomp``.\n",
      "  warnings.warn(\"Starting from version 2.2.1, the library file in distribution wheels for macOS \"\n"
     ]
    },
    {
     "name": "stdout",
     "output_type": "stream",
     "text": [
      "LGBMClassifier Accuracy:\n",
      "0.7583183690715115\n"
     ]
    }
   ],
   "source": [
    "import lightgbm as lgb\n",
    "\n",
    "X =  df[['X', 'Y', 'COLLISIONTYPE', 'PERSONCOUNT', 'PEDCOUNT', 'PEDCYLCOUNT', 'VEHCOUNT', 'ADDRTYPE', 'HITPARKEDCAR', # 1 Section\n",
    "         'INTKEY', 'JUNCTIONTYPE', 'SEGLANEKEY', 'CROSSWALKKEY',                                                      # 2 Section\n",
    "         'WEATHER', 'ROADCOND', 'LIGHTCOND', 'year', 'month', 'day', 'hour', 'minute', 'weekday_name']]               # 3 Section\n",
    "\n",
    "y = df['SEVERITYCODE']\n",
    "\n",
    "X_trainset, X_testset, y_trainset, y_testset = train_test_split(X, y, test_size=0.1, random_state=3)\n",
    "lgbm = lgb.LGBMClassifier()\n",
    "lgbm.fit(X_trainset,y_trainset)\n",
    "predTree = lgbm.predict(X_testset)\n",
    "accuracy = metrics.accuracy_score(y_testset, predTree)\n",
    "\n",
    "\n",
    "print(f\"LGBMClassifier Accuracy:\")\n",
    "print(f\"{accuracy}\")"
   ]
  },
  {
   "cell_type": "markdown",
   "metadata": {},
   "source": [
    " "
   ]
  },
  {
   "cell_type": "markdown",
   "metadata": {},
   "source": [
    "# Results"
   ]
  },
  {
   "cell_type": "markdown",
   "metadata": {},
   "source": [
    "DecisionTrees's Accuracy:\n",
    "0.6828456744480829\n",
    "\n",
    "LGBMClassifier Accuracy:\n",
    "0.7580542938628921\n",
    "\n",
    "We can see that LGBMClassifier performs better.\n",
    "I propose to dwell on this solution.\n",
    "\n",
    "Our model is able to predict whether a medical assistance is needed or not with accuracy ~ 76%. It's good."
   ]
  },
  {
   "cell_type": "markdown",
   "metadata": {},
   "source": [
    " "
   ]
  },
  {
   "cell_type": "markdown",
   "metadata": {},
   "source": [
    "# Discussion"
   ]
  },
  {
   "cell_type": "markdown",
   "metadata": {},
   "source": [
    "### We can pay attention to the order in which information about the incident is received."
   ]
  },
  {
   "cell_type": "markdown",
   "metadata": {},
   "source": [
    "### 1) If a witness to the incident exists at the time of the incident, the dispatcher can obtain information in section 1 and automatically and quickly obtain information from sections 2 and 3.\n",
    "\n",
    "Let's consider some options:   \n",
    "A police dispatcher can spend 1-5 minutes collecting information.    \n",
    "The information may be complete or incomplete.    \n",
    "The information may be true or false.    \n",
    "The incident may be life threatening or not.   \n",
    "\n",
    "#### In this case, we have a lot of conventions. But a witness can tell us about the wounded and the need for medical assistance. We can compare the report to the police with the decision from the model and draw conclusions about the credibility of the information.    \n",
    "#### Or if there is not enough information about the victims, can help to police to make a decision.   \n",
    "#### The model can help is to understand immediately in the first seconds of the call (by coordinates) whether medical assistance is needed or not."
   ]
  },
  {
   "cell_type": "markdown",
   "metadata": {},
   "source": [
    " "
   ]
  },
  {
   "cell_type": "markdown",
   "metadata": {},
   "source": [
    "### 2) If a witness to the incident does not exist at the time of the accident (or appears after a long time), then the dispatcher will not receive information at all, or the lost time may cost the lives of the victims.\n",
    "\n",
    "Let's consider some options   \n",
    "The witness does not appear at all, and the victims do not need medical assistance.\n",
    "The witness does not appear at all, and the victims need medical attention but do not receive it.\n",
    "An witness appears, but after a while the victims will receive help (if it is necessary).\n",
    "An witness appears, but after a while the victims do not have time to get help (if it is necessary)\n",
    "\n",
    "\n",
    "#### In this case, we have no information at all at the time of the accident, moreover if the victims need medical assistance, they may not receive it.   \n",
    "#### What can we do about it?\n",
    "1) we could get information from the navigator, for example, about an abnormal decrease in speed. After that automatically transfer coordinates to the dispatcher.   \n",
    "2) we could receive information from the deployment of airbags, sensors of the integrity of the bumper or car body, impact on the body, and then automatically transmit the coordinates to the dispatcher.\n",
    "\n",
    "Based on this we could get such data from software and services and build a model.\n",
    "\n",
    "   \n",
    "> <b>1. Police get data from witness</b>   \n",
    "> 'X'     \n",
    "> 'Y'    \n",
    "\n",
    "\n",
    "> <b>2. Police can get data automatically by post-processing coordinates 'X' and 'Y'</b>   \n",
    "> 'INTKEY'    \n",
    "> 'JUNCTIONTYPE'    \n",
    "> 'SEGLANEKEY'    \n",
    "> 'CROSSWALKKEY'    \n",
    "\n",
    "> <b>3. Police can get data automatically by services</b>   \n",
    "> 'WEATHER'    \n",
    "> 'ROADCOND'    \n",
    "> 'LIGHTCOND'  \n",
    "> 'year'    \n",
    "> 'month'    \n",
    "> 'day'    \n",
    "> 'hour'    \n",
    "> 'minute'    \n",
    "> 'weekday_name'\n",
    "\n",
    "Such methods are able to help to reduce the number of victims where every minute is important.\n",
    "\n",
    "In this case, our model can help to inform the dispatcher about the severity of the accident for less than a second and send a medical helicopter before dispather can contact the victims."
   ]
  },
  {
   "cell_type": "code",
   "execution_count": 7,
   "metadata": {},
   "outputs": [
    {
     "name": "stdout",
     "output_type": "stream",
     "text": [
      "LGBMClassifier Accuracy:\n",
      "0.7228794760747861\n"
     ]
    }
   ],
   "source": [
    "import lightgbm as lgb\n",
    "\n",
    "\n",
    "X =  df[['X', 'Y',                                                                                                    # 1 Section\n",
    "         'INTKEY', 'JUNCTIONTYPE', 'SEGLANEKEY', 'CROSSWALKKEY',                                                      # 2 Section\n",
    "         'WEATHER', 'ROADCOND', 'LIGHTCOND', 'year', 'month', 'day', 'hour', 'minute', 'weekday_name']]               # 3 Section\n",
    "\n",
    "y = df['SEVERITYCODE']\n",
    "\n",
    "X_trainset, X_testset, y_trainset, y_testset = train_test_split(X, y, test_size=0.1, random_state=3)\n",
    "lgbm = lgb.LGBMClassifier()\n",
    "lgbm.fit(X_trainset,y_trainset)\n",
    "predTree = lgbm.predict(X_testset)\n",
    "accuracy = metrics.accuracy_score(y_testset, predTree)\n",
    "\n",
    "\n",
    "print(f\"LGBMClassifier Accuracy:\")\n",
    "print(f\"{accuracy}\")"
   ]
  },
  {
   "cell_type": "markdown",
   "metadata": {},
   "source": [
    " "
   ]
  },
  {
   "cell_type": "markdown",
   "metadata": {},
   "source": [
    " "
   ]
  },
  {
   "cell_type": "markdown",
   "metadata": {},
   "source": [
    "# Conclusion"
   ]
  },
  {
   "cell_type": "markdown",
   "metadata": {},
   "source": [
    "### 1) Our model can help the police to define the need of medical assistance in case of simultaneously happening crashes with 76 % accuracy.\n",
    "### 2) We can compare police report with the decision from the model and draw conclusions about the credibility of the information with 76 % accuracy.\n",
    "### 3) If there is not enough information about the accident the model can help the police to make a decision about medical assistance with accuracy  ~ 72 % (by coordinates).\n",
    "### 4) The model can help us to understand in the first seconds of the call   (by coordinates) whether medical assistance is needed or not with accuracy  ~ 72 %.\n",
    "### 5) If cars are equipped with accident warning systems for the police our model can help to decide whether to provide medical assistance or not with accuracy  ~ 72 % (by coordinates).\n"
   ]
  },
  {
   "cell_type": "markdown",
   "metadata": {},
   "source": [
    " "
   ]
  },
  {
   "cell_type": "markdown",
   "metadata": {},
   "source": [
    " "
   ]
  },
  {
   "cell_type": "markdown",
   "metadata": {},
   "source": [
    "# That's all, folks"
   ]
  },
  {
   "cell_type": "markdown",
   "metadata": {},
   "source": [
    " "
   ]
  },
  {
   "cell_type": "markdown",
   "metadata": {},
   "source": [
    " "
   ]
  },
  {
   "cell_type": "markdown",
   "metadata": {},
   "source": [
    "Created by [Artyom Kolas ](https://www.linkedin.com/in/artyomkolas/)"
   ]
  }
 ],
 "metadata": {
  "kernelspec": {
   "display_name": "Python [conda env:ibm] *",
   "language": "python",
   "name": "conda-env-ibm-py"
  },
  "language_info": {
   "codemirror_mode": {
    "name": "ipython",
    "version": 3
   },
   "file_extension": ".py",
   "mimetype": "text/x-python",
   "name": "python",
   "nbconvert_exporter": "python",
   "pygments_lexer": "ipython3",
   "version": "3.8.5"
  }
 },
 "nbformat": 4,
 "nbformat_minor": 4
}
